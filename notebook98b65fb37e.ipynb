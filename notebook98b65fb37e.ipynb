{
 "cells": [
  {
   "cell_type": "markdown",
   "id": "bf115b4a",
   "metadata": {
    "papermill": {
     "duration": 0.019684,
     "end_time": "2023-12-04T02:14:42.422028",
     "exception": false,
     "start_time": "2023-12-04T02:14:42.402344",
     "status": "completed"
    },
    "tags": []
   },
   "source": [
    "# Project 1"
   ]
  },
  {
   "cell_type": "markdown",
   "id": "b2430456",
   "metadata": {
    "papermill": {
     "duration": 0.019234,
     "end_time": "2023-12-04T02:14:42.460240",
     "exception": false,
     "start_time": "2023-12-04T02:14:42.441006",
     "status": "completed"
    },
    "tags": []
   },
   "source": [
    "**Note**: if you feel like your Pandas skills need a bit of a touch up, check [this article out](https://levelup.gitconnected.com/20-pandas-functions-for-80-of-your-data-science-tasks-b610c8bfe63c)!"
   ]
  },
  {
   "cell_type": "markdown",
   "id": "b2361910",
   "metadata": {
    "papermill": {
     "duration": 0.018849,
     "end_time": "2023-12-04T02:14:42.497708",
     "exception": false,
     "start_time": "2023-12-04T02:14:42.478859",
     "status": "completed"
    },
    "tags": []
   },
   "source": [
    "The dataset we're going to be using is one of the most realistic retail time-series datasets you'll find out there because, well, it's actual Walmart data. It was made available for a Kaggle competition that you can check out [here](https://www.kaggle.com/c/m5-forecasting-accuracy).\n",
    "\n",
    "The original format of the data was in a \"wide\" format to made it smaller in memory, but that doesn't really work too well with databases and you won't see that very often in the real world. The most notable changes are that I added in a date column to replace the date identifier columns that were previously there, and I made the data smaller by only subsetting to the state of Texas.\n",
    "\n",
    "**Another note:** If you want to develop and test your code with a smaller dataset (which I'd probably recommend), set `sampled` in the cell below to `True`. All of the tests will still pass if your code is correct!\n",
    "\n",
    "Let's get into it!"
   ]
  },
  {
   "cell_type": "code",
   "execution_count": 1,
   "id": "1ec5ba6d",
   "metadata": {
    "execution": {
     "iopub.execute_input": "2023-12-04T02:14:42.536811Z",
     "iopub.status.busy": "2023-12-04T02:14:42.536383Z",
     "iopub.status.idle": "2023-12-04T02:14:42.548364Z",
     "shell.execute_reply": "2023-12-04T02:14:42.547533Z"
    },
    "papermill": {
     "duration": 0.034435,
     "end_time": "2023-12-04T02:14:42.550756",
     "exception": false,
     "start_time": "2023-12-04T02:14:42.516321",
     "status": "completed"
    },
    "tags": []
   },
   "outputs": [],
   "source": [
    "data_dir = '/kaggle/input/project1-data/data'\n",
    "sampled = True\n",
    "\n",
    "path_suffix = '' if not sampled else '_sampled'"
   ]
  },
  {
   "cell_type": "code",
   "execution_count": 2,
   "id": "a273cb04",
   "metadata": {
    "execution": {
     "iopub.execute_input": "2023-12-04T02:14:42.590201Z",
     "iopub.status.busy": "2023-12-04T02:14:42.589780Z",
     "iopub.status.idle": "2023-12-04T02:14:43.061819Z",
     "shell.execute_reply": "2023-12-04T02:14:43.060505Z"
    },
    "papermill": {
     "duration": 0.495045,
     "end_time": "2023-12-04T02:14:43.064692",
     "exception": false,
     "start_time": "2023-12-04T02:14:42.569647",
     "status": "completed"
    },
    "tags": []
   },
   "outputs": [],
   "source": [
    "import pandas as pd\n",
    "import numpy as np"
   ]
  },
  {
   "cell_type": "markdown",
   "id": "cfd12074",
   "metadata": {
    "papermill": {
     "duration": 0.018182,
     "end_time": "2023-12-04T02:14:43.102443",
     "exception": false,
     "start_time": "2023-12-04T02:14:43.084261",
     "status": "completed"
    },
    "tags": []
   },
   "source": [
    "## Getting our data in the right format"
   ]
  },
  {
   "cell_type": "markdown",
   "id": "6709f73c",
   "metadata": {
    "papermill": {
     "duration": 0.018199,
     "end_time": "2023-12-04T02:14:43.139840",
     "exception": false,
     "start_time": "2023-12-04T02:14:43.121641",
     "status": "completed"
    },
    "tags": []
   },
   "source": [
    "Time-series data has to be collected from some real-world, data-generating process. That means that raw data comes in as a series of observations. Depending on your experience with time-series data, you may be used to data that looks like this:\n",
    "\n",
    "| Date       | Sales |\n",
    "|------------|-------|\n",
    "| 2022-01-01 |  23   |\n",
    "| 2022-01-02 |  45   |\n",
    "| 2022-01-03 |  12   |\n",
    "| 2022-01-04 |  67   |\n",
    "| 2022-01-05 |  89   |\n",
    "\n",
    "But, if you're in retail, each of those \"sales\" probably came in some JSON from some point-of-sale system (i.e. cash register) that probably looked something like this:\n",
    "\n",
    "```\n",
    "{\n",
    "    \"timestamp\": 2022-01-01 12:34:56,\n",
    "    \"product_id\": 5,\n",
    "    \"store_id\": 12,\n",
    "    \"category_id\": 36,\n",
    "    ...\n",
    "}\n",
    "```\n",
    "\n",
    "Usually, it's the job of a data engineer to collect all of these records and aggregate them into a nice, tabular format, but it's worth at least having an appreciation for how it's done. So, we're going to start from a mock version of a transactions table."
   ]
  },
  {
   "cell_type": "code",
   "execution_count": 3,
   "id": "dda8200b",
   "metadata": {
    "execution": {
     "iopub.execute_input": "2023-12-04T02:14:43.178608Z",
     "iopub.status.busy": "2023-12-04T02:14:43.178072Z",
     "iopub.status.idle": "2023-12-04T02:14:43.560322Z",
     "shell.execute_reply": "2023-12-04T02:14:43.559095Z"
    },
    "papermill": {
     "duration": 0.404879,
     "end_time": "2023-12-04T02:14:43.563183",
     "exception": false,
     "start_time": "2023-12-04T02:14:43.158304",
     "status": "completed"
    },
    "tags": []
   },
   "outputs": [
    {
     "data": {
      "text/html": [
       "<div>\n",
       "<style scoped>\n",
       "    .dataframe tbody tr th:only-of-type {\n",
       "        vertical-align: middle;\n",
       "    }\n",
       "\n",
       "    .dataframe tbody tr th {\n",
       "        vertical-align: top;\n",
       "    }\n",
       "\n",
       "    .dataframe thead th {\n",
       "        text-align: right;\n",
       "    }\n",
       "</style>\n",
       "<table border=\"1\" class=\"dataframe\">\n",
       "  <thead>\n",
       "    <tr style=\"text-align: right;\">\n",
       "      <th></th>\n",
       "      <th>date</th>\n",
       "      <th>id</th>\n",
       "      <th>item_id</th>\n",
       "      <th>dept_id</th>\n",
       "      <th>cat_id</th>\n",
       "      <th>store_id</th>\n",
       "      <th>state_id</th>\n",
       "    </tr>\n",
       "  </thead>\n",
       "  <tbody>\n",
       "    <tr>\n",
       "      <th>0</th>\n",
       "      <td>2013-01-01 13:41:03</td>\n",
       "      <td>HOBBIES_1_004_TX_1_evaluation</td>\n",
       "      <td>HOBBIES_1_004</td>\n",
       "      <td>HOBBIES_1</td>\n",
       "      <td>HOBBIES</td>\n",
       "      <td>TX_1</td>\n",
       "      <td>TX</td>\n",
       "    </tr>\n",
       "    <tr>\n",
       "      <th>1</th>\n",
       "      <td>2013-01-01 07:30:52</td>\n",
       "      <td>HOBBIES_1_004_TX_1_evaluation</td>\n",
       "      <td>HOBBIES_1_004</td>\n",
       "      <td>HOBBIES_1</td>\n",
       "      <td>HOBBIES</td>\n",
       "      <td>TX_1</td>\n",
       "      <td>TX</td>\n",
       "    </tr>\n",
       "    <tr>\n",
       "      <th>2</th>\n",
       "      <td>2013-01-01 11:17:38</td>\n",
       "      <td>HOBBIES_1_004_TX_1_evaluation</td>\n",
       "      <td>HOBBIES_1_004</td>\n",
       "      <td>HOBBIES_1</td>\n",
       "      <td>HOBBIES</td>\n",
       "      <td>TX_1</td>\n",
       "      <td>TX</td>\n",
       "    </tr>\n",
       "    <tr>\n",
       "      <th>3</th>\n",
       "      <td>2013-01-01 06:07:58</td>\n",
       "      <td>HOBBIES_1_004_TX_2_evaluation</td>\n",
       "      <td>HOBBIES_1_004</td>\n",
       "      <td>HOBBIES_1</td>\n",
       "      <td>HOBBIES</td>\n",
       "      <td>TX_2</td>\n",
       "      <td>TX</td>\n",
       "    </tr>\n",
       "    <tr>\n",
       "      <th>4</th>\n",
       "      <td>2013-01-01 21:51:07</td>\n",
       "      <td>HOBBIES_1_004_TX_2_evaluation</td>\n",
       "      <td>HOBBIES_1_004</td>\n",
       "      <td>HOBBIES_1</td>\n",
       "      <td>HOBBIES</td>\n",
       "      <td>TX_2</td>\n",
       "      <td>TX</td>\n",
       "    </tr>\n",
       "  </tbody>\n",
       "</table>\n",
       "</div>"
      ],
      "text/plain": [
       "                  date                             id        item_id  \\\n",
       "0  2013-01-01 13:41:03  HOBBIES_1_004_TX_1_evaluation  HOBBIES_1_004   \n",
       "1  2013-01-01 07:30:52  HOBBIES_1_004_TX_1_evaluation  HOBBIES_1_004   \n",
       "2  2013-01-01 11:17:38  HOBBIES_1_004_TX_1_evaluation  HOBBIES_1_004   \n",
       "3  2013-01-01 06:07:58  HOBBIES_1_004_TX_2_evaluation  HOBBIES_1_004   \n",
       "4  2013-01-01 21:51:07  HOBBIES_1_004_TX_2_evaluation  HOBBIES_1_004   \n",
       "\n",
       "     dept_id   cat_id store_id state_id  \n",
       "0  HOBBIES_1  HOBBIES     TX_1       TX  \n",
       "1  HOBBIES_1  HOBBIES     TX_1       TX  \n",
       "2  HOBBIES_1  HOBBIES     TX_1       TX  \n",
       "3  HOBBIES_1  HOBBIES     TX_2       TX  \n",
       "4  HOBBIES_1  HOBBIES     TX_2       TX  "
      ]
     },
     "execution_count": 3,
     "metadata": {},
     "output_type": "execute_result"
    }
   ],
   "source": [
    "transactions = pd.read_csv(f'{data_dir}/transactions_data{path_suffix}.csv')\n",
    "\n",
    "transactions.head()"
   ]
  },
  {
   "cell_type": "code",
   "execution_count": 4,
   "id": "34e23948",
   "metadata": {
    "execution": {
     "iopub.execute_input": "2023-12-04T02:14:43.604804Z",
     "iopub.status.busy": "2023-12-04T02:14:43.604022Z",
     "iopub.status.idle": "2023-12-04T02:14:43.612917Z",
     "shell.execute_reply": "2023-12-04T02:14:43.611761Z"
    },
    "papermill": {
     "duration": 0.032599,
     "end_time": "2023-12-04T02:14:43.615554",
     "exception": false,
     "start_time": "2023-12-04T02:14:43.582955",
     "status": "completed"
    },
    "tags": []
   },
   "outputs": [
    {
     "data": {
      "text/plain": [
       "date        object\n",
       "id          object\n",
       "item_id     object\n",
       "dept_id     object\n",
       "cat_id      object\n",
       "store_id    object\n",
       "state_id    object\n",
       "dtype: object"
      ]
     },
     "execution_count": 4,
     "metadata": {},
     "output_type": "execute_result"
    }
   ],
   "source": [
    "transactions.dtypes"
   ]
  },
  {
   "cell_type": "markdown",
   "id": "226b876a",
   "metadata": {
    "papermill": {
     "duration": 0.018567,
     "end_time": "2023-12-04T02:14:43.653912",
     "exception": false,
     "start_time": "2023-12-04T02:14:43.635345",
     "status": "completed"
    },
    "tags": []
   },
   "source": [
    "You can see that this is a DataFrame where each row relates to purchases for an individual item. Here's a little data dictionary:\n",
    "\n",
    "- `date`: the time at which an item was bought, down to the second\n",
    "- `id`: the product ID. Each of these is an individual item at a specific store.\n",
    "- `item_id`: this is an identifier for items, but not at the store level. You can use this to find the same item at different stores.\n",
    "- `dept_id`: department ID. One level up from `item_id` in the hierarchy\n",
    "- `cat_id`: category ID. One level up from `dept_id` in the hierarchy\n",
    "- `store_id`: identifies the specific store where the product was bought\n",
    "- `state_id`: identifies the specific state where the product was bought\n",
    "\n",
    "`date` is supposed to be a `datetime`-like object, but you can see that when we loaded it from disk, it was loaded in as a string. Let's convert that column to `datetime`."
   ]
  },
  {
   "cell_type": "code",
   "execution_count": 5,
   "id": "3730378b",
   "metadata": {
    "execution": {
     "iopub.execute_input": "2023-12-04T02:14:43.693843Z",
     "iopub.status.busy": "2023-12-04T02:14:43.693186Z",
     "iopub.status.idle": "2023-12-04T02:14:43.771972Z",
     "shell.execute_reply": "2023-12-04T02:14:43.770718Z"
    },
    "papermill": {
     "duration": 0.102081,
     "end_time": "2023-12-04T02:14:43.774798",
     "exception": false,
     "start_time": "2023-12-04T02:14:43.672717",
     "status": "completed"
    },
    "tags": []
   },
   "outputs": [],
   "source": [
    "# QUESTION: Convert this column to a datetime object\n",
    "transactions['date'] = pd.to_datetime(transactions['date']).dt.normalize()"
   ]
  },
  {
   "cell_type": "code",
   "execution_count": 6,
   "id": "4c5aa3a2",
   "metadata": {
    "execution": {
     "iopub.execute_input": "2023-12-04T02:14:43.879576Z",
     "iopub.status.busy": "2023-12-04T02:14:43.879193Z",
     "iopub.status.idle": "2023-12-04T02:14:43.888131Z",
     "shell.execute_reply": "2023-12-04T02:14:43.886952Z"
    },
    "papermill": {
     "duration": 0.096153,
     "end_time": "2023-12-04T02:14:43.890480",
     "exception": false,
     "start_time": "2023-12-04T02:14:43.794327",
     "status": "completed"
    },
    "tags": []
   },
   "outputs": [
    {
     "data": {
      "text/plain": [
       "date        datetime64[ns]\n",
       "id                  object\n",
       "item_id             object\n",
       "dept_id             object\n",
       "cat_id              object\n",
       "store_id            object\n",
       "state_id            object\n",
       "dtype: object"
      ]
     },
     "execution_count": 6,
     "metadata": {},
     "output_type": "execute_result"
    }
   ],
   "source": [
    "transactions.dtypes"
   ]
  },
  {
   "cell_type": "markdown",
   "id": "8ab45f26",
   "metadata": {
    "papermill": {
     "duration": 0.018912,
     "end_time": "2023-12-04T02:14:43.929850",
     "exception": false,
     "start_time": "2023-12-04T02:14:43.910938",
     "status": "completed"
    },
    "tags": []
   },
   "source": [
    "Our goal is to transform this dataset into one that's easy to analyze and train models on. For this project, our goal is going to be to work at the daily level. So, our first step is to aggregate our transactions data up to the daily level.\n",
    "\n",
    "To be more specific, this is what we want it to look like:"
   ]
  },
  {
   "cell_type": "code",
   "execution_count": 7,
   "id": "309ea27e",
   "metadata": {
    "execution": {
     "iopub.execute_input": "2023-12-04T02:14:43.972930Z",
     "iopub.status.busy": "2023-12-04T02:14:43.971872Z",
     "iopub.status.idle": "2023-12-04T02:14:43.998621Z",
     "shell.execute_reply": "2023-12-04T02:14:43.997173Z"
    },
    "papermill": {
     "duration": 0.052143,
     "end_time": "2023-12-04T02:14:44.001465",
     "exception": false,
     "start_time": "2023-12-04T02:14:43.949322",
     "status": "completed"
    },
    "tags": []
   },
   "outputs": [
    {
     "data": {
      "text/html": [
       "<div>\n",
       "<style scoped>\n",
       "    .dataframe tbody tr th:only-of-type {\n",
       "        vertical-align: middle;\n",
       "    }\n",
       "\n",
       "    .dataframe tbody tr th {\n",
       "        vertical-align: top;\n",
       "    }\n",
       "\n",
       "    .dataframe thead th {\n",
       "        text-align: right;\n",
       "    }\n",
       "</style>\n",
       "<table border=\"1\" class=\"dataframe\">\n",
       "  <thead>\n",
       "    <tr style=\"text-align: right;\">\n",
       "      <th></th>\n",
       "      <th>date</th>\n",
       "      <th>id</th>\n",
       "      <th>item_id</th>\n",
       "      <th>dept_id</th>\n",
       "      <th>cat_id</th>\n",
       "      <th>store_id</th>\n",
       "      <th>state_id</th>\n",
       "      <th>sales</th>\n",
       "    </tr>\n",
       "  </thead>\n",
       "  <tbody>\n",
       "    <tr>\n",
       "      <th>0</th>\n",
       "      <td>2013-01-01</td>\n",
       "      <td>HOBBIES_1_004_TX_1_evaluation</td>\n",
       "      <td>HOBBIES_1_004</td>\n",
       "      <td>HOBBIES_1</td>\n",
       "      <td>HOBBIES</td>\n",
       "      <td>TX_1</td>\n",
       "      <td>TX</td>\n",
       "      <td>3</td>\n",
       "    </tr>\n",
       "    <tr>\n",
       "      <th>1</th>\n",
       "      <td>2013-01-01</td>\n",
       "      <td>HOBBIES_2_075_TX_1_evaluation</td>\n",
       "      <td>HOBBIES_2_075</td>\n",
       "      <td>HOBBIES_2</td>\n",
       "      <td>HOBBIES</td>\n",
       "      <td>TX_1</td>\n",
       "      <td>TX</td>\n",
       "      <td>0</td>\n",
       "    </tr>\n",
       "    <tr>\n",
       "      <th>2</th>\n",
       "      <td>2013-01-01</td>\n",
       "      <td>HOUSEHOLD_1_247_TX_1_evaluation</td>\n",
       "      <td>HOUSEHOLD_1_247</td>\n",
       "      <td>HOUSEHOLD_1</td>\n",
       "      <td>HOUSEHOLD</td>\n",
       "      <td>TX_1</td>\n",
       "      <td>TX</td>\n",
       "      <td>0</td>\n",
       "    </tr>\n",
       "    <tr>\n",
       "      <th>3</th>\n",
       "      <td>2013-01-01</td>\n",
       "      <td>HOUSEHOLD_1_266_TX_1_evaluation</td>\n",
       "      <td>HOUSEHOLD_1_266</td>\n",
       "      <td>HOUSEHOLD_1</td>\n",
       "      <td>HOUSEHOLD</td>\n",
       "      <td>TX_1</td>\n",
       "      <td>TX</td>\n",
       "      <td>0</td>\n",
       "    </tr>\n",
       "    <tr>\n",
       "      <th>4</th>\n",
       "      <td>2013-01-01</td>\n",
       "      <td>FOODS_1_001_TX_1_evaluation</td>\n",
       "      <td>FOODS_1_001</td>\n",
       "      <td>FOODS_1</td>\n",
       "      <td>FOODS</td>\n",
       "      <td>TX_1</td>\n",
       "      <td>TX</td>\n",
       "      <td>0</td>\n",
       "    </tr>\n",
       "  </tbody>\n",
       "</table>\n",
       "</div>"
      ],
      "text/plain": [
       "         date                               id          item_id      dept_id  \\\n",
       "0  2013-01-01    HOBBIES_1_004_TX_1_evaluation    HOBBIES_1_004    HOBBIES_1   \n",
       "1  2013-01-01    HOBBIES_2_075_TX_1_evaluation    HOBBIES_2_075    HOBBIES_2   \n",
       "2  2013-01-01  HOUSEHOLD_1_247_TX_1_evaluation  HOUSEHOLD_1_247  HOUSEHOLD_1   \n",
       "3  2013-01-01  HOUSEHOLD_1_266_TX_1_evaluation  HOUSEHOLD_1_266  HOUSEHOLD_1   \n",
       "4  2013-01-01      FOODS_1_001_TX_1_evaluation      FOODS_1_001      FOODS_1   \n",
       "\n",
       "      cat_id store_id state_id  sales  \n",
       "0    HOBBIES     TX_1       TX      3  \n",
       "1    HOBBIES     TX_1       TX      0  \n",
       "2  HOUSEHOLD     TX_1       TX      0  \n",
       "3  HOUSEHOLD     TX_1       TX      0  \n",
       "4      FOODS     TX_1       TX      0  "
      ]
     },
     "execution_count": 7,
     "metadata": {},
     "output_type": "execute_result"
    }
   ],
   "source": [
    "# This is a hefty table, so just peeking at the first 5 rows\n",
    "pd.read_csv(f'{data_dir}/sales_data{path_suffix}.csv', nrows=5)\n"
   ]
  },
  {
   "cell_type": "markdown",
   "id": "31e30353",
   "metadata": {
    "papermill": {
     "duration": 0.021325,
     "end_time": "2023-12-04T02:14:44.042908",
     "exception": false,
     "start_time": "2023-12-04T02:14:44.021583",
     "status": "completed"
    },
    "tags": []
   },
   "source": [
    "You can see that the `sales` column is really just a daily count of transactions for that particular `id`.\n",
    "\n",
    "In the cell below, create a dataframe called `data`, which is the transactions dataframe aggregated to the daily level. It should look like the above, except you won't have zero sales days. Don't worry about order: the below test will handle that!"
   ]
  },
  {
   "cell_type": "markdown",
   "id": "c446bc33",
   "metadata": {
    "papermill": {
     "duration": 0.019423,
     "end_time": "2023-12-04T02:14:44.082227",
     "exception": false,
     "start_time": "2023-12-04T02:14:44.062804",
     "status": "completed"
    },
    "tags": []
   },
   "source": [
    "## Ramona's observations on the data attributes\n",
    "\n",
    "Looking at the data, I noticed the following characteristics regarding its attributes.\n",
    "\n",
    "1. `id = item_id +'_' + store_id + '_' + 'evaluation'`.\n",
    "2. `item_id = dept_id + '_' + item_code`, where `item_code` is a 3-digit number.\n",
    "3. `dept_id = cat_id + '_' + dept_code`, where `dept_code` is a 1-digit number.\n",
    "4. `store_id = state_id + '_' + store_code`, where `store_code` is a 1-digit number.\n",
    "\n",
    "These observations support the dimensional modeling of the data. \n",
    "\n",
    "Following these decompositions (Functional Dependencies in correct DB-language), we can infer that it is sufficient to aggregate our data on the `id` attribute only. All the other attributes can be inferred using the transformations outlined above.\n",
    "\n",
    "In the following code cells I perform the simplest check of these assumptions. "
   ]
  },
  {
   "cell_type": "code",
   "execution_count": 8,
   "id": "b81222cf",
   "metadata": {
    "execution": {
     "iopub.execute_input": "2023-12-04T02:14:44.124816Z",
     "iopub.status.busy": "2023-12-04T02:14:44.123401Z",
     "iopub.status.idle": "2023-12-04T02:14:44.230937Z",
     "shell.execute_reply": "2023-12-04T02:14:44.229533Z"
    },
    "papermill": {
     "duration": 0.131625,
     "end_time": "2023-12-04T02:14:44.233616",
     "exception": false,
     "start_time": "2023-12-04T02:14:44.101991",
     "status": "completed"
    },
    "tags": []
   },
   "outputs": [
    {
     "data": {
      "text/plain": [
       "111221"
      ]
     },
     "execution_count": 8,
     "metadata": {},
     "output_type": "execute_result"
    }
   ],
   "source": [
    "data_1 = transactions.groupby(['state_id','store_id','cat_id','dept_id','item_id','date'])['id'].transform('count')\n",
    "\n",
    "len(data_1)"
   ]
  },
  {
   "cell_type": "code",
   "execution_count": 9,
   "id": "e6e17320",
   "metadata": {
    "execution": {
     "iopub.execute_input": "2023-12-04T02:14:44.275787Z",
     "iopub.status.busy": "2023-12-04T02:14:44.275349Z",
     "iopub.status.idle": "2023-12-04T02:14:44.383286Z",
     "shell.execute_reply": "2023-12-04T02:14:44.382070Z"
    },
    "papermill": {
     "duration": 0.131741,
     "end_time": "2023-12-04T02:14:44.385822",
     "exception": false,
     "start_time": "2023-12-04T02:14:44.254081",
     "status": "completed"
    },
    "tags": []
   },
   "outputs": [
    {
     "data": {
      "text/plain": [
       "111221"
      ]
     },
     "execution_count": 9,
     "metadata": {},
     "output_type": "execute_result"
    }
   ],
   "source": [
    "data_2 = transactions.groupby(['item_id']).transform('count')\n",
    "\n",
    "len(data_2)"
   ]
  },
  {
   "cell_type": "code",
   "execution_count": 10,
   "id": "1cd4dacb",
   "metadata": {
    "execution": {
     "iopub.execute_input": "2023-12-04T02:14:44.427858Z",
     "iopub.status.busy": "2023-12-04T02:14:44.427404Z",
     "iopub.status.idle": "2023-12-04T02:14:44.538945Z",
     "shell.execute_reply": "2023-12-04T02:14:44.537542Z"
    },
    "papermill": {
     "duration": 0.135711,
     "end_time": "2023-12-04T02:14:44.541648",
     "exception": false,
     "start_time": "2023-12-04T02:14:44.405937",
     "status": "completed"
    },
    "tags": []
   },
   "outputs": [
    {
     "data": {
      "text/plain": [
       "111221"
      ]
     },
     "execution_count": 10,
     "metadata": {},
     "output_type": "execute_result"
    }
   ],
   "source": [
    "data_3 = transactions.groupby(['date', 'id']).transform('count')\n",
    "\n",
    "len(data_3)"
   ]
  },
  {
   "cell_type": "code",
   "execution_count": 11,
   "id": "97143cda",
   "metadata": {
    "execution": {
     "iopub.execute_input": "2023-12-04T02:14:44.583846Z",
     "iopub.status.busy": "2023-12-04T02:14:44.583394Z",
     "iopub.status.idle": "2023-12-04T02:14:44.626392Z",
     "shell.execute_reply": "2023-12-04T02:14:44.625108Z"
    },
    "papermill": {
     "duration": 0.067201,
     "end_time": "2023-12-04T02:14:44.629062",
     "exception": false,
     "start_time": "2023-12-04T02:14:44.561861",
     "status": "completed"
    },
    "tags": []
   },
   "outputs": [
    {
     "data": {
      "text/plain": [
       "13345"
      ]
     },
     "execution_count": 11,
     "metadata": {},
     "output_type": "execute_result"
    }
   ],
   "source": [
    "data = (transactions.assign(sales=1)\n",
    "            .groupby(['date', 'id'], as_index=False)['sales'].sum())\n",
    "len(data)"
   ]
  },
  {
   "cell_type": "markdown",
   "id": "a204d09d",
   "metadata": {
    "papermill": {
     "duration": 0.020015,
     "end_time": "2023-12-04T02:14:44.670019",
     "exception": false,
     "start_time": "2023-12-04T02:14:44.650004",
     "status": "completed"
    },
    "tags": []
   },
   "source": [
    "If the cell below runs without error, you did it right!"
   ]
  },
  {
   "cell_type": "code",
   "execution_count": 12,
   "id": "7d738a7b",
   "metadata": {
    "execution": {
     "iopub.execute_input": "2023-12-04T02:14:44.713742Z",
     "iopub.status.busy": "2023-12-04T02:14:44.712907Z",
     "iopub.status.idle": "2023-12-04T02:14:44.836269Z",
     "shell.execute_reply": "2023-12-04T02:14:44.835064Z"
    },
    "papermill": {
     "duration": 0.148754,
     "end_time": "2023-12-04T02:14:44.839185",
     "exception": false,
     "start_time": "2023-12-04T02:14:44.690431",
     "status": "completed"
    },
    "tags": []
   },
   "outputs": [],
   "source": [
    "def test_sales_eq(data):\n",
    "    assert (\n",
    "        pd.read_csv(f'{data_dir}/sales_data{path_suffix}.csv', usecols=['date', 'id', 'sales'])\n",
    "        .assign(date=lambda df: pd.to_datetime(df.date))\n",
    "        .query('sales != 0')\n",
    "        .merge(data, on=['date','id'], how='left', suffixes=('_actual', '_predicted'))\n",
    "        .fillna(0)\n",
    "        .assign(sales_error=lambda df: (df.sales_actual - df.sales_predicted).abs())\n",
    "        .sales_error\n",
    "        .sum() < 1e-6\n",
    "    ), 'Your version of sales does not match the original sales data.'\n",
    "\n",
    "    assert (\n",
    "        pd.read_csv(f'{data_dir}/sales_data{path_suffix}.csv', usecols=['date', 'id', 'sales'])\n",
    "        .query('sales != 0')\n",
    "        .shape[0]\n",
    "    ) == data.shape[0], 'Your dataframe has a different number of rows than the original sales data.'\n",
    "\n",
    "test_sales_eq(data)"
   ]
  },
  {
   "cell_type": "markdown",
   "id": "bad5bbc8",
   "metadata": {
    "papermill": {
     "duration": 0.020073,
     "end_time": "2023-12-04T02:14:44.880202",
     "exception": false,
     "start_time": "2023-12-04T02:14:44.860129",
     "status": "completed"
    },
    "tags": []
   },
   "source": [
    "## Optimizing our data"
   ]
  },
  {
   "cell_type": "markdown",
   "id": "d5808a3d",
   "metadata": {
    "papermill": {
     "duration": 0.0207,
     "end_time": "2023-12-04T02:14:44.921210",
     "exception": false,
     "start_time": "2023-12-04T02:14:44.900510",
     "status": "completed"
    },
    "tags": []
   },
   "source": [
    "Let's take a look at how our data is being stored in memory."
   ]
  },
  {
   "cell_type": "code",
   "execution_count": 13,
   "id": "282092f8",
   "metadata": {
    "execution": {
     "iopub.execute_input": "2023-12-04T02:14:44.965343Z",
     "iopub.status.busy": "2023-12-04T02:14:44.964902Z",
     "iopub.status.idle": "2023-12-04T02:14:44.987949Z",
     "shell.execute_reply": "2023-12-04T02:14:44.985907Z"
    },
    "papermill": {
     "duration": 0.048387,
     "end_time": "2023-12-04T02:14:44.990711",
     "exception": false,
     "start_time": "2023-12-04T02:14:44.942324",
     "status": "completed"
    },
    "tags": []
   },
   "outputs": [
    {
     "name": "stdout",
     "output_type": "stream",
     "text": [
      "<class 'pandas.core.frame.DataFrame'>\n",
      "RangeIndex: 13345 entries, 0 to 13344\n",
      "Data columns (total 3 columns):\n",
      " #   Column  Non-Null Count  Dtype         \n",
      "---  ------  --------------  -----         \n",
      " 0   date    13345 non-null  datetime64[ns]\n",
      " 1   id      13345 non-null  object        \n",
      " 2   sales   13345 non-null  int64         \n",
      "dtypes: datetime64[ns](1), int64(1), object(1)\n",
      "memory usage: 1.3 MB\n"
     ]
    }
   ],
   "source": [
    "data.info(memory_usage='deep')"
   ]
  },
  {
   "cell_type": "code",
   "execution_count": 14,
   "id": "8e5289c0",
   "metadata": {
    "execution": {
     "iopub.execute_input": "2023-12-04T02:14:45.035389Z",
     "iopub.status.busy": "2023-12-04T02:14:45.034956Z",
     "iopub.status.idle": "2023-12-04T02:14:45.042439Z",
     "shell.execute_reply": "2023-12-04T02:14:45.041334Z"
    },
    "papermill": {
     "duration": 0.033023,
     "end_time": "2023-12-04T02:14:45.044996",
     "exception": false,
     "start_time": "2023-12-04T02:14:45.011973",
     "status": "completed"
    },
    "tags": []
   },
   "outputs": [
    {
     "data": {
      "text/plain": [
       "date     datetime64[ns]\n",
       "id               object\n",
       "sales             int64\n",
       "dtype: object"
      ]
     },
     "execution_count": 14,
     "metadata": {},
     "output_type": "execute_result"
    }
   ],
   "source": [
    "data.dtypes"
   ]
  },
  {
   "cell_type": "markdown",
   "id": "6bc423a9",
   "metadata": {
    "papermill": {
     "duration": 0.020891,
     "end_time": "2023-12-04T02:14:45.088254",
     "exception": false,
     "start_time": "2023-12-04T02:14:45.067363",
     "status": "completed"
    },
    "tags": []
   },
   "source": [
    "1.5 GB of data for our purposed is certainly no joke. But how much of that is really necessary?\n",
    "\n",
    "Most of our data is stored in the least memory efficient format for pandas: strings (objects). Let's fix that.\n",
    "\n",
    "Hint: check out [this page](https://pandas.pydata.org/docs/user_guide/basics.html#basics-dtypes) of the pandas documentation that talks about data types.\n",
    "\n",
    "In the below cell, convert the data types of columns to reduce memory usage as much as possible."
   ]
  },
  {
   "cell_type": "code",
   "execution_count": 15,
   "id": "2f97347f",
   "metadata": {
    "execution": {
     "iopub.execute_input": "2023-12-04T02:14:45.132935Z",
     "iopub.status.busy": "2023-12-04T02:14:45.132499Z",
     "iopub.status.idle": "2023-12-04T02:14:45.140824Z",
     "shell.execute_reply": "2023-12-04T02:14:45.139893Z"
    },
    "papermill": {
     "duration": 0.034026,
     "end_time": "2023-12-04T02:14:45.143138",
     "exception": false,
     "start_time": "2023-12-04T02:14:45.109112",
     "status": "completed"
    },
    "tags": []
   },
   "outputs": [],
   "source": [
    "def optimize_dataframe(df):\n",
    "    '''\n",
    "    Transforms the types of the dataframe for optimal storage.\n",
    "    '''    \n",
    "    for col in df.columns:\n",
    "        if df[col].dtype == 'object':\n",
    "            df[col] = df[col].astype('category')\n",
    "        elif df[col].dtype == 'int64':\n",
    "            df[col] = df[col].astype('int32')\n",
    "    return df\n"
   ]
  },
  {
   "cell_type": "code",
   "execution_count": 16,
   "id": "0c8e49c4",
   "metadata": {
    "execution": {
     "iopub.execute_input": "2023-12-04T02:14:45.186486Z",
     "iopub.status.busy": "2023-12-04T02:14:45.186048Z",
     "iopub.status.idle": "2023-12-04T02:14:45.194467Z",
     "shell.execute_reply": "2023-12-04T02:14:45.193280Z"
    },
    "papermill": {
     "duration": 0.033751,
     "end_time": "2023-12-04T02:14:45.197660",
     "exception": false,
     "start_time": "2023-12-04T02:14:45.163909",
     "status": "completed"
    },
    "tags": []
   },
   "outputs": [],
   "source": [
    "data = optimize_dataframe(data)"
   ]
  },
  {
   "cell_type": "code",
   "execution_count": 17,
   "id": "bc73c3a0",
   "metadata": {
    "execution": {
     "iopub.execute_input": "2023-12-04T02:14:45.243763Z",
     "iopub.status.busy": "2023-12-04T02:14:45.242556Z",
     "iopub.status.idle": "2023-12-04T02:14:45.256624Z",
     "shell.execute_reply": "2023-12-04T02:14:45.255472Z"
    },
    "papermill": {
     "duration": 0.039619,
     "end_time": "2023-12-04T02:14:45.259279",
     "exception": false,
     "start_time": "2023-12-04T02:14:45.219660",
     "status": "completed"
    },
    "tags": []
   },
   "outputs": [
    {
     "name": "stdout",
     "output_type": "stream",
     "text": [
      "<class 'pandas.core.frame.DataFrame'>\n",
      "RangeIndex: 13345 entries, 0 to 13344\n",
      "Data columns (total 3 columns):\n",
      " #   Column  Non-Null Count  Dtype         \n",
      "---  ------  --------------  -----         \n",
      " 0   date    13345 non-null  datetime64[ns]\n",
      " 1   id      13345 non-null  category      \n",
      " 2   sales   13345 non-null  int32         \n",
      "dtypes: category(1), datetime64[ns](1), int32(1)\n",
      "memory usage: 171.6 KB\n"
     ]
    }
   ],
   "source": [
    "data.info(memory_usage='deep')"
   ]
  },
  {
   "cell_type": "markdown",
   "id": "88be2709",
   "metadata": {
    "papermill": {
     "duration": 0.021465,
     "end_time": "2023-12-04T02:14:45.301705",
     "exception": false,
     "start_time": "2023-12-04T02:14:45.280240",
     "status": "completed"
    },
    "tags": []
   },
   "source": [
    "On my local machine, loading our original CSV took ~8.7 seconds, and that only took 0.1 seconds. And our data types were maintained! Nice!"
   ]
  },
  {
   "cell_type": "markdown",
   "id": "85ff5a30",
   "metadata": {
    "papermill": {
     "duration": 0.020647,
     "end_time": "2023-12-04T02:14:45.343871",
     "exception": false,
     "start_time": "2023-12-04T02:14:45.323224",
     "status": "completed"
    },
    "tags": []
   },
   "source": [
    "In my solution, I got the final DataFrame down to 90.4 MB, which is about 6% of the original size!\n",
    "\n",
    "While we're at it, it's worth talking about the best way to store this data on disk. If we saved this as a CSV, it wouldn't maintain any of the data type modifications we just made. Pandas offers a bunch of options for saving DataFrames, but here are the two I'd recommend:\n",
    "\n",
    "- [Parquet](https://pandas.pydata.org/docs/dev/reference/api/pandas.DataFrame.to_parquet.html) has basically become the industry standard for storing tabular data on disk. It's a columnar file format that automatically compresses your data (which it does really well) and will maintain any data types you use in Pandas, with only a couple exceptions.\n",
    "\n",
    "- [Feather](https://pandas.pydata.org/docs/dev/reference/api/pandas.DataFrame.to_parquet.html) is also a columnar data format, but it optimizes heavily for read speed. Your file size will be much bigger than Parquets, but it's really useful when you need to heavily optimize for data reading."
   ]
  },
  {
   "cell_type": "code",
   "execution_count": 18,
   "id": "4d11c141",
   "metadata": {
    "execution": {
     "iopub.execute_input": "2023-12-04T02:14:45.389042Z",
     "iopub.status.busy": "2023-12-04T02:14:45.388054Z",
     "iopub.status.idle": "2023-12-04T02:14:45.500567Z",
     "shell.execute_reply": "2023-12-04T02:14:45.499271Z"
    },
    "papermill": {
     "duration": 0.138023,
     "end_time": "2023-12-04T02:14:45.503875",
     "exception": false,
     "start_time": "2023-12-04T02:14:45.365852",
     "status": "completed"
    },
    "tags": []
   },
   "outputs": [],
   "source": [
    "data.to_parquet('sales_data_checkpoint.parquet')"
   ]
  },
  {
   "cell_type": "code",
   "execution_count": 19,
   "id": "d7587e32",
   "metadata": {
    "execution": {
     "iopub.execute_input": "2023-12-04T02:14:45.552190Z",
     "iopub.status.busy": "2023-12-04T02:14:45.551313Z",
     "iopub.status.idle": "2023-12-04T02:14:45.627326Z",
     "shell.execute_reply": "2023-12-04T02:14:45.626299Z"
    },
    "papermill": {
     "duration": 0.104715,
     "end_time": "2023-12-04T02:14:45.630190",
     "exception": false,
     "start_time": "2023-12-04T02:14:45.525475",
     "status": "completed"
    },
    "tags": []
   },
   "outputs": [],
   "source": [
    "data = pd.read_parquet('sales_data_checkpoint.parquet')"
   ]
  },
  {
   "cell_type": "code",
   "execution_count": 20,
   "id": "f1dee1f9",
   "metadata": {
    "execution": {
     "iopub.execute_input": "2023-12-04T02:14:45.680535Z",
     "iopub.status.busy": "2023-12-04T02:14:45.679693Z",
     "iopub.status.idle": "2023-12-04T02:14:45.694279Z",
     "shell.execute_reply": "2023-12-04T02:14:45.693349Z"
    },
    "papermill": {
     "duration": 0.041393,
     "end_time": "2023-12-04T02:14:45.697445",
     "exception": false,
     "start_time": "2023-12-04T02:14:45.656052",
     "status": "completed"
    },
    "tags": []
   },
   "outputs": [
    {
     "name": "stdout",
     "output_type": "stream",
     "text": [
      "<class 'pandas.core.frame.DataFrame'>\n",
      "RangeIndex: 13345 entries, 0 to 13344\n",
      "Data columns (total 3 columns):\n",
      " #   Column  Non-Null Count  Dtype         \n",
      "---  ------  --------------  -----         \n",
      " 0   date    13345 non-null  datetime64[ns]\n",
      " 1   id      13345 non-null  category      \n",
      " 2   sales   13345 non-null  int32         \n",
      "dtypes: category(1), datetime64[ns](1), int32(1)\n",
      "memory usage: 171.6 KB\n"
     ]
    }
   ],
   "source": [
    "data.info(memory_usage='deep')"
   ]
  },
  {
   "cell_type": "markdown",
   "id": "023a45aa",
   "metadata": {
    "papermill": {
     "duration": 0.022108,
     "end_time": "2023-12-04T02:14:45.745928",
     "exception": false,
     "start_time": "2023-12-04T02:14:45.723820",
     "status": "completed"
    },
    "tags": []
   },
   "source": [
    "## Finishing up our data pre-processing"
   ]
  },
  {
   "cell_type": "markdown",
   "id": "9492d417",
   "metadata": {
    "papermill": {
     "duration": 0.02434,
     "end_time": "2023-12-04T02:14:45.794994",
     "exception": false,
     "start_time": "2023-12-04T02:14:45.770654",
     "status": "completed"
    },
    "tags": []
   },
   "source": [
    "There's one last modification we need to make to our data before it's ready to go. The way that we converted transactions into sales was *slightly* problematic because now, when a product doesn't sell it just isn't present in our data, rather than appearing as a zero. \n",
    "\n",
    "That's an issue for our forecasting models, so let's fix it!"
   ]
  },
  {
   "cell_type": "markdown",
   "id": "52fd735d",
   "metadata": {
    "papermill": {
     "duration": 0.022343,
     "end_time": "2023-12-04T02:14:45.840063",
     "exception": false,
     "start_time": "2023-12-04T02:14:45.817720",
     "status": "completed"
    },
    "tags": []
   },
   "source": [
    "First, set your index to columns that the DataFrame is distinct on (`date` and `id`)."
   ]
  },
  {
   "cell_type": "code",
   "execution_count": 21,
   "id": "60987858",
   "metadata": {
    "execution": {
     "iopub.execute_input": "2023-12-04T02:14:45.887912Z",
     "iopub.status.busy": "2023-12-04T02:14:45.887020Z",
     "iopub.status.idle": "2023-12-04T02:14:45.896556Z",
     "shell.execute_reply": "2023-12-04T02:14:45.895176Z"
    },
    "papermill": {
     "duration": 0.037823,
     "end_time": "2023-12-04T02:14:45.899430",
     "exception": false,
     "start_time": "2023-12-04T02:14:45.861607",
     "status": "completed"
    },
    "tags": []
   },
   "outputs": [],
   "source": [
    "data = data.set_index(['date', 'id'])"
   ]
  },
  {
   "cell_type": "code",
   "execution_count": 22,
   "id": "2a41f33c",
   "metadata": {
    "execution": {
     "iopub.execute_input": "2023-12-04T02:14:45.945538Z",
     "iopub.status.busy": "2023-12-04T02:14:45.945117Z",
     "iopub.status.idle": "2023-12-04T02:14:45.962396Z",
     "shell.execute_reply": "2023-12-04T02:14:45.960922Z"
    },
    "papermill": {
     "duration": 0.044515,
     "end_time": "2023-12-04T02:14:45.966549",
     "exception": false,
     "start_time": "2023-12-04T02:14:45.922034",
     "status": "completed"
    },
    "tags": []
   },
   "outputs": [],
   "source": [
    "data = data.sort_index()"
   ]
  },
  {
   "cell_type": "markdown",
   "id": "0029e931",
   "metadata": {
    "papermill": {
     "duration": 0.023215,
     "end_time": "2023-12-04T02:14:46.014265",
     "exception": false,
     "start_time": "2023-12-04T02:14:45.991050",
     "status": "completed"
    },
    "tags": []
   },
   "source": [
    "Now, create a MultiIndex with all combinations of daily dates and `id`s using `pd.MultiIndex.from_product` and use it and `.reindex()` to fill the gaps in your data."
   ]
  },
  {
   "cell_type": "code",
   "execution_count": 23,
   "id": "65dec0f0",
   "metadata": {
    "execution": {
     "iopub.execute_input": "2023-12-04T02:14:46.060787Z",
     "iopub.status.busy": "2023-12-04T02:14:46.060329Z",
     "iopub.status.idle": "2023-12-04T02:14:46.069844Z",
     "shell.execute_reply": "2023-12-04T02:14:46.068435Z"
    },
    "papermill": {
     "duration": 0.035145,
     "end_time": "2023-12-04T02:14:46.072285",
     "exception": false,
     "start_time": "2023-12-04T02:14:46.037140",
     "status": "completed"
    },
    "tags": []
   },
   "outputs": [],
   "source": [
    "def reindex_dataframe(df, date_level, secondary_level, freq, extra_months):\n",
    "    '''\n",
    "    Reindexes a DataFrame according to a date_level (this can be day/month/year).\n",
    "    The purpose of this is to fill-in all the possible combinations of the index entries\n",
    "    at the specified date level and the secondary_level.\n",
    "    Params:\n",
    "        df: the DataFrame we reindex\n",
    "        date_level: the level at wich we perform the indexing\n",
    "        secondary_level: the additional attribute(s) used to create the multilevel index\n",
    "        freq: the frequency at which the index entries will be generated \n",
    "              (as specified in the `date_range` method)\n",
    "        extra_months: extend the time frame with additional months\n",
    "    Returns:\n",
    "        The re-indexed DataFrame.\n",
    "    '''\n",
    "\n",
    "    min_date = df.index.get_level_values(date_level).min()\n",
    "    # Dates don't have to be exact since there will be 1 record per month!\n",
    "    max_date = df.index.get_level_values(date_level).max() + pd.Timedelta(days=31*6)\n",
    "\n",
    "    # MS ensures that we get the first date of the month\n",
    "    dates_to_select = pd.date_range(min_date, max_date, freq='1MS') \n",
    "    secondary_data = df.index.get_level_values(secondary_level).unique()\n",
    "\n",
    "    # Get all combinations of our new dates and topics\n",
    "    index_to_select = pd.MultiIndex.from_product([dates_to_select, secondary_data], \n",
    "                                              names=[date_level, secondary_level])\n",
    "\n",
    "    return df.reindex(index_to_select)"
   ]
  },
  {
   "cell_type": "code",
   "execution_count": 24,
   "id": "265126e9",
   "metadata": {
    "execution": {
     "iopub.execute_input": "2023-12-04T02:14:46.121738Z",
     "iopub.status.busy": "2023-12-04T02:14:46.120436Z",
     "iopub.status.idle": "2023-12-04T02:14:46.137704Z",
     "shell.execute_reply": "2023-12-04T02:14:46.136189Z"
    },
    "papermill": {
     "duration": 0.045304,
     "end_time": "2023-12-04T02:14:46.140776",
     "exception": false,
     "start_time": "2023-12-04T02:14:46.095472",
     "status": "completed"
    },
    "tags": []
   },
   "outputs": [],
   "source": [
    "reindexed_data = reindex_dataframe(data,'date', 'id', '1D', 1 )"
   ]
  },
  {
   "cell_type": "code",
   "execution_count": 25,
   "id": "74db83cc",
   "metadata": {
    "execution": {
     "iopub.execute_input": "2023-12-04T02:14:46.189453Z",
     "iopub.status.busy": "2023-12-04T02:14:46.188097Z",
     "iopub.status.idle": "2023-12-04T02:14:46.197073Z",
     "shell.execute_reply": "2023-12-04T02:14:46.195721Z"
    },
    "papermill": {
     "duration": 0.035449,
     "end_time": "2023-12-04T02:14:46.199781",
     "exception": false,
     "start_time": "2023-12-04T02:14:46.164332",
     "status": "completed"
    },
    "tags": []
   },
   "outputs": [
    {
     "data": {
      "text/plain": [
       "846"
      ]
     },
     "execution_count": 25,
     "metadata": {},
     "output_type": "execute_result"
    }
   ],
   "source": [
    "len(reindexed_data)"
   ]
  },
  {
   "cell_type": "code",
   "execution_count": 26,
   "id": "2348061f",
   "metadata": {
    "execution": {
     "iopub.execute_input": "2023-12-04T02:14:46.248663Z",
     "iopub.status.busy": "2023-12-04T02:14:46.247273Z",
     "iopub.status.idle": "2023-12-04T02:14:46.258811Z",
     "shell.execute_reply": "2023-12-04T02:14:46.256801Z"
    },
    "papermill": {
     "duration": 0.038758,
     "end_time": "2023-12-04T02:14:46.262302",
     "exception": false,
     "start_time": "2023-12-04T02:14:46.223544",
     "status": "completed"
    },
    "tags": []
   },
   "outputs": [
    {
     "data": {
      "text/plain": [
       "Timestamp('2016-05-22 00:00:00')"
      ]
     },
     "execution_count": 26,
     "metadata": {},
     "output_type": "execute_result"
    }
   ],
   "source": [
    "data.index.get_level_values('date').max()"
   ]
  },
  {
   "cell_type": "code",
   "execution_count": 27,
   "id": "3726183a",
   "metadata": {
    "execution": {
     "iopub.execute_input": "2023-12-04T02:14:46.311752Z",
     "iopub.status.busy": "2023-12-04T02:14:46.311181Z",
     "iopub.status.idle": "2023-12-04T02:14:46.320887Z",
     "shell.execute_reply": "2023-12-04T02:14:46.319746Z"
    },
    "papermill": {
     "duration": 0.036285,
     "end_time": "2023-12-04T02:14:46.323285",
     "exception": false,
     "start_time": "2023-12-04T02:14:46.287000",
     "status": "completed"
    },
    "tags": []
   },
   "outputs": [
    {
     "data": {
      "text/plain": [
       "Timestamp('2013-01-01 00:00:00')"
      ]
     },
     "execution_count": 27,
     "metadata": {},
     "output_type": "execute_result"
    }
   ],
   "source": [
    "data.index.get_level_values('date').min()"
   ]
  },
  {
   "cell_type": "code",
   "execution_count": 28,
   "id": "b9d09dcf",
   "metadata": {
    "execution": {
     "iopub.execute_input": "2023-12-04T02:14:46.371443Z",
     "iopub.status.busy": "2023-12-04T02:14:46.370387Z",
     "iopub.status.idle": "2023-12-04T02:14:46.386292Z",
     "shell.execute_reply": "2023-12-04T02:14:46.385111Z"
    },
    "papermill": {
     "duration": 0.042961,
     "end_time": "2023-12-04T02:14:46.388951",
     "exception": false,
     "start_time": "2023-12-04T02:14:46.345990",
     "status": "completed"
    },
    "tags": []
   },
   "outputs": [
    {
     "data": {
      "text/html": [
       "<div>\n",
       "<style scoped>\n",
       "    .dataframe tbody tr th:only-of-type {\n",
       "        vertical-align: middle;\n",
       "    }\n",
       "\n",
       "    .dataframe tbody tr th {\n",
       "        vertical-align: top;\n",
       "    }\n",
       "\n",
       "    .dataframe thead th {\n",
       "        text-align: right;\n",
       "    }\n",
       "</style>\n",
       "<table border=\"1\" class=\"dataframe\">\n",
       "  <thead>\n",
       "    <tr style=\"text-align: right;\">\n",
       "      <th></th>\n",
       "      <th></th>\n",
       "      <th>sales</th>\n",
       "    </tr>\n",
       "    <tr>\n",
       "      <th>date</th>\n",
       "      <th>id</th>\n",
       "      <th></th>\n",
       "    </tr>\n",
       "  </thead>\n",
       "  <tbody>\n",
       "    <tr>\n",
       "      <th rowspan=\"5\" valign=\"top\">2013-01-01</th>\n",
       "      <th>FOODS_3_714_TX_2_evaluation</th>\n",
       "      <td>10.0</td>\n",
       "    </tr>\n",
       "    <tr>\n",
       "      <th>FOODS_3_714_TX_3_evaluation</th>\n",
       "      <td>12.0</td>\n",
       "    </tr>\n",
       "    <tr>\n",
       "      <th>HOBBIES_1_004_TX_1_evaluation</th>\n",
       "      <td>3.0</td>\n",
       "    </tr>\n",
       "    <tr>\n",
       "      <th>HOBBIES_1_004_TX_2_evaluation</th>\n",
       "      <td>2.0</td>\n",
       "    </tr>\n",
       "    <tr>\n",
       "      <th>HOBBIES_1_004_TX_3_evaluation</th>\n",
       "      <td>1.0</td>\n",
       "    </tr>\n",
       "  </tbody>\n",
       "</table>\n",
       "</div>"
      ],
      "text/plain": [
       "                                          sales\n",
       "date       id                                  \n",
       "2013-01-01 FOODS_3_714_TX_2_evaluation     10.0\n",
       "           FOODS_3_714_TX_3_evaluation     12.0\n",
       "           HOBBIES_1_004_TX_1_evaluation    3.0\n",
       "           HOBBIES_1_004_TX_2_evaluation    2.0\n",
       "           HOBBIES_1_004_TX_3_evaluation    1.0"
      ]
     },
     "execution_count": 28,
     "metadata": {},
     "output_type": "execute_result"
    }
   ],
   "source": [
    "reindexed_data.head()"
   ]
  },
  {
   "cell_type": "markdown",
   "id": "f302f52d",
   "metadata": {
    "papermill": {
     "duration": 0.021267,
     "end_time": "2023-12-04T02:14:46.433178",
     "exception": false,
     "start_time": "2023-12-04T02:14:46.411911",
     "status": "completed"
    },
    "tags": []
   },
   "source": [
    "Finally, fill the resulting `NaN`s in your dataframe. Hint: it's tempting to use `.groupby().fillna(method='ffill')` (and backfilling), but unfortunately this method is quite slow on grouped data. I'd recommend manually recreating the categorical columns by splitting the `id` column on underscores. This cell could take over a minute to run depending on how you implement it!"
   ]
  },
  {
   "cell_type": "code",
   "execution_count": 29,
   "id": "49fb7dee",
   "metadata": {
    "execution": {
     "iopub.execute_input": "2023-12-04T02:14:46.481030Z",
     "iopub.status.busy": "2023-12-04T02:14:46.479983Z",
     "iopub.status.idle": "2023-12-04T02:14:46.499341Z",
     "shell.execute_reply": "2023-12-04T02:14:46.498196Z"
    },
    "papermill": {
     "duration": 0.046569,
     "end_time": "2023-12-04T02:14:46.502334",
     "exception": false,
     "start_time": "2023-12-04T02:14:46.455765",
     "status": "completed"
    },
    "tags": []
   },
   "outputs": [],
   "source": [
    "data = (\n",
    "    reindexed_data.reset_index()\n",
    "    .assign(id=lambda df: df.id.astype(str).values)\n",
    "    .assign(dept_id=lambda df: df['id'].str.split('_', n=2).str[:2].str.join('_'))\n",
    "    .fillna(0)\n",
    "    .set_index(['date', 'id'])\n",
    ")"
   ]
  },
  {
   "cell_type": "code",
   "execution_count": 30,
   "id": "56f1e077",
   "metadata": {
    "execution": {
     "iopub.execute_input": "2023-12-04T02:14:46.549106Z",
     "iopub.status.busy": "2023-12-04T02:14:46.548716Z",
     "iopub.status.idle": "2023-12-04T02:14:46.562380Z",
     "shell.execute_reply": "2023-12-04T02:14:46.561168Z"
    },
    "papermill": {
     "duration": 0.041445,
     "end_time": "2023-12-04T02:14:46.565840",
     "exception": false,
     "start_time": "2023-12-04T02:14:46.524395",
     "status": "completed"
    },
    "tags": []
   },
   "outputs": [
    {
     "data": {
      "text/html": [
       "<div>\n",
       "<style scoped>\n",
       "    .dataframe tbody tr th:only-of-type {\n",
       "        vertical-align: middle;\n",
       "    }\n",
       "\n",
       "    .dataframe tbody tr th {\n",
       "        vertical-align: top;\n",
       "    }\n",
       "\n",
       "    .dataframe thead th {\n",
       "        text-align: right;\n",
       "    }\n",
       "</style>\n",
       "<table border=\"1\" class=\"dataframe\">\n",
       "  <thead>\n",
       "    <tr style=\"text-align: right;\">\n",
       "      <th></th>\n",
       "      <th></th>\n",
       "      <th>sales</th>\n",
       "      <th>dept_id</th>\n",
       "    </tr>\n",
       "    <tr>\n",
       "      <th>date</th>\n",
       "      <th>id</th>\n",
       "      <th></th>\n",
       "      <th></th>\n",
       "    </tr>\n",
       "  </thead>\n",
       "  <tbody>\n",
       "    <tr>\n",
       "      <th rowspan=\"5\" valign=\"top\">2013-01-01</th>\n",
       "      <th>FOODS_3_714_TX_2_evaluation</th>\n",
       "      <td>10.0</td>\n",
       "      <td>FOODS_3</td>\n",
       "    </tr>\n",
       "    <tr>\n",
       "      <th>FOODS_3_714_TX_3_evaluation</th>\n",
       "      <td>12.0</td>\n",
       "      <td>FOODS_3</td>\n",
       "    </tr>\n",
       "    <tr>\n",
       "      <th>HOBBIES_1_004_TX_1_evaluation</th>\n",
       "      <td>3.0</td>\n",
       "      <td>HOBBIES_1</td>\n",
       "    </tr>\n",
       "    <tr>\n",
       "      <th>HOBBIES_1_004_TX_2_evaluation</th>\n",
       "      <td>2.0</td>\n",
       "      <td>HOBBIES_1</td>\n",
       "    </tr>\n",
       "    <tr>\n",
       "      <th>HOBBIES_1_004_TX_3_evaluation</th>\n",
       "      <td>1.0</td>\n",
       "      <td>HOBBIES_1</td>\n",
       "    </tr>\n",
       "  </tbody>\n",
       "</table>\n",
       "</div>"
      ],
      "text/plain": [
       "                                          sales    dept_id\n",
       "date       id                                             \n",
       "2013-01-01 FOODS_3_714_TX_2_evaluation     10.0    FOODS_3\n",
       "           FOODS_3_714_TX_3_evaluation     12.0    FOODS_3\n",
       "           HOBBIES_1_004_TX_1_evaluation    3.0  HOBBIES_1\n",
       "           HOBBIES_1_004_TX_2_evaluation    2.0  HOBBIES_1\n",
       "           HOBBIES_1_004_TX_3_evaluation    1.0  HOBBIES_1"
      ]
     },
     "execution_count": 30,
     "metadata": {},
     "output_type": "execute_result"
    }
   ],
   "source": [
    "data.head(5)"
   ]
  },
  {
   "cell_type": "code",
   "execution_count": 31,
   "id": "c74ce09e",
   "metadata": {
    "execution": {
     "iopub.execute_input": "2023-12-04T02:14:46.628863Z",
     "iopub.status.busy": "2023-12-04T02:14:46.627902Z",
     "iopub.status.idle": "2023-12-04T02:14:46.635687Z",
     "shell.execute_reply": "2023-12-04T02:14:46.634621Z"
    },
    "papermill": {
     "duration": 0.038421,
     "end_time": "2023-12-04T02:14:46.638191",
     "exception": false,
     "start_time": "2023-12-04T02:14:46.599770",
     "status": "completed"
    },
    "tags": []
   },
   "outputs": [
    {
     "data": {
      "text/plain": [
       "846"
      ]
     },
     "execution_count": 31,
     "metadata": {},
     "output_type": "execute_result"
    }
   ],
   "source": [
    "len(data)"
   ]
  },
  {
   "cell_type": "code",
   "execution_count": 32,
   "id": "67b5946a",
   "metadata": {
    "execution": {
     "iopub.execute_input": "2023-12-04T02:14:46.689908Z",
     "iopub.status.busy": "2023-12-04T02:14:46.688891Z",
     "iopub.status.idle": "2023-12-04T02:14:46.773287Z",
     "shell.execute_reply": "2023-12-04T02:14:46.772002Z"
    },
    "papermill": {
     "duration": 0.115114,
     "end_time": "2023-12-04T02:14:46.776743",
     "exception": false,
     "start_time": "2023-12-04T02:14:46.661629",
     "status": "completed"
    },
    "tags": []
   },
   "outputs": [],
   "source": [
    "def test_sales_eq(data):\n",
    "    data_copy = (\n",
    "        data\n",
    "        .copy()\n",
    "        .reset_index('id')\n",
    "        .assign(id=lambda df: df.id.astype(str).values)\n",
    "    )\n",
    "    assert (\n",
    "        pd.read_csv(f'{data_dir}/sales_data{path_suffix}.csv', usecols=['date', 'id', 'sales'])\n",
    "        .query('id != \"FOODS_2_394_TX_3_evaluation\"')  # this item is missing in my modified data\n",
    "        .assign(date=lambda df: pd.to_datetime(df.date))\n",
    "        .merge(\n",
    "            data_copy, \n",
    "            on=['date', 'id'], \n",
    "            how='left', \n",
    "            suffixes=('_actual', '_predicted')\n",
    "        )\n",
    "        # .fillna(0)\n",
    "        .assign(sales_error=lambda df: (df.sales_actual - df.sales_predicted).abs())\n",
    "        .sales_error\n",
    "        .sum() < 1e-6\n",
    "    ), 'Your version of sales does not match the original sales data.'\n",
    "\n",
    "test_sales_eq(data)"
   ]
  },
  {
   "cell_type": "markdown",
   "id": "7cc03d6a",
   "metadata": {
    "papermill": {
     "duration": 0.022295,
     "end_time": "2023-12-04T02:14:46.821924",
     "exception": false,
     "start_time": "2023-12-04T02:14:46.799629",
     "status": "completed"
    },
    "tags": []
   },
   "source": [
    "## Exploring our data"
   ]
  },
  {
   "cell_type": "markdown",
   "id": "20be0df5",
   "metadata": {
    "papermill": {
     "duration": 0.021512,
     "end_time": "2023-12-04T02:14:46.866417",
     "exception": false,
     "start_time": "2023-12-04T02:14:46.844905",
     "status": "completed"
    },
    "tags": []
   },
   "source": [
    "Exploratory data analysis is crucial for building the best models.\n",
    "\n",
    "Before you start this section, though, I would **highly recommend** that you set the index of your DataFrame to be on both the `date` and `id` field (our DataFrame has one row for each `date`/`id` combo). It's up to you, but it's good practice!\n",
    "\n",
    "For this section, find 3-5 insights about the data that you feel are helpful for building models. Specifically, we'll be building models at the `date`/`dept_id` level (i.e., a forecast for `FOODS_1` on 2011-02-01, 2011-02-02, etc., a forecast for `HOBBIES_1` on 2011-02-01, 2011-02-02, etc.)\n",
    "\n",
    "The only required one is an [autocorrelation analysis](https://pandas.pydata.org/docs/reference/api/pandas.plotting.autocorrelation_plot.html). Other than that, some ideas are:\n",
    "\n",
    "- Looking for seasonal patterns and trends for each department\n",
    "- Department sales by day of week\n",
    "- Analyses at a higher level, like the category level\n",
    "\n",
    "Anything goes! Be creative!\n",
    "\n",
    "Here's an example of plotting the category-level sales for `FOODS_1` to get you started:\n",
    "\n",
    "```\n",
    "(\n",
    "    data\n",
    "    .groupby(['date', 'dept_id'])\n",
    "    .sales\n",
    "    .sum()\n",
    "    [:, 'FOODS_1']\n",
    "    .plot()\n",
    ")\n",
    "```"
   ]
  },
  {
   "cell_type": "code",
   "execution_count": 33,
   "id": "e1de02aa",
   "metadata": {
    "execution": {
     "iopub.execute_input": "2023-12-04T02:14:46.915532Z",
     "iopub.status.busy": "2023-12-04T02:14:46.915072Z",
     "iopub.status.idle": "2023-12-04T02:14:46.927880Z",
     "shell.execute_reply": "2023-12-04T02:14:46.926499Z"
    },
    "papermill": {
     "duration": 0.040549,
     "end_time": "2023-12-04T02:14:46.930758",
     "exception": false,
     "start_time": "2023-12-04T02:14:46.890209",
     "status": "completed"
    },
    "tags": []
   },
   "outputs": [
    {
     "data": {
      "text/plain": [
       "dept_id    \n",
       "HOUSEHOLD_1    282\n",
       "FOODS_1        141\n",
       "FOODS_3        141\n",
       "HOBBIES_1      141\n",
       "HOBBIES_2      141\n",
       "Name: count, dtype: int64"
      ]
     },
     "execution_count": 33,
     "metadata": {},
     "output_type": "execute_result"
    }
   ],
   "source": [
    "data[['dept_id']].value_counts()"
   ]
  },
  {
   "cell_type": "code",
   "execution_count": 34,
   "id": "9bd622f1",
   "metadata": {
    "execution": {
     "iopub.execute_input": "2023-12-04T02:14:46.982339Z",
     "iopub.status.busy": "2023-12-04T02:14:46.981903Z",
     "iopub.status.idle": "2023-12-04T02:14:47.549084Z",
     "shell.execute_reply": "2023-12-04T02:14:47.547864Z"
    },
    "papermill": {
     "duration": 0.596462,
     "end_time": "2023-12-04T02:14:47.551851",
     "exception": false,
     "start_time": "2023-12-04T02:14:46.955389",
     "status": "completed"
    },
    "tags": []
   },
   "outputs": [
    {
     "data": {
      "text/plain": [
       "<Axes: xlabel='date'>"
      ]
     },
     "execution_count": 34,
     "metadata": {},
     "output_type": "execute_result"
    },
    {
     "data": {
      "image/png": "[encoded data removed]",
      "text/plain": [
       "<Figure size 640x480 with 1 Axes>"
      ]
     },
     "metadata": {},
     "output_type": "display_data"
    }
   ],
   "source": [
    "(\n",
    "    data\n",
    "    .groupby(['date', 'dept_id'])\n",
    "    .sales\n",
    "    .sum()\n",
    "    [:, 'FOODS_3']\n",
    "    .plot()\n",
    ")"
   ]
  },
  {
   "cell_type": "code",
   "execution_count": 35,
   "id": "84ad9a8a",
   "metadata": {
    "execution": {
     "iopub.execute_input": "2023-12-04T02:14:47.605016Z",
     "iopub.status.busy": "2023-12-04T02:14:47.604384Z",
     "iopub.status.idle": "2023-12-04T02:14:47.934425Z",
     "shell.execute_reply": "2023-12-04T02:14:47.932712Z"
    },
    "papermill": {
     "duration": 0.361654,
     "end_time": "2023-12-04T02:14:47.937828",
     "exception": false,
     "start_time": "2023-12-04T02:14:47.576174",
     "status": "completed"
    },
    "tags": []
   },
   "outputs": [
    {
     "data": {
      "text/plain": [
       "<Axes: xlabel='Lag', ylabel='Autocorrelation'>"
      ]
     },
     "execution_count": 35,
     "metadata": {},
     "output_type": "execute_result"
    },
    {
     "data": {
      "image/png": "[encoded data removed]",
      "text/plain": [
       "<Figure size 640x480 with 1 Axes>"
      ]
     },
     "metadata": {},
     "output_type": "display_data"
    }
   ],
   "source": [
    "data_plot = (\n",
    "    data\n",
    "    .groupby(['date', 'dept_id'])\n",
    "    .sales\n",
    "    .sum()\n",
    "    [:, 'FOODS_3']\n",
    ")\n",
    "pd.plotting.autocorrelation_plot(data_plot)"
   ]
  },
  {
   "cell_type": "code",
   "execution_count": 36,
   "id": "1bbe6806",
   "metadata": {
    "execution": {
     "iopub.execute_input": "2023-12-04T02:14:47.993407Z",
     "iopub.status.busy": "2023-12-04T02:14:47.992517Z",
     "iopub.status.idle": "2023-12-04T02:14:48.499160Z",
     "shell.execute_reply": "2023-12-04T02:14:48.497841Z"
    },
    "papermill": {
     "duration": 0.538618,
     "end_time": "2023-12-04T02:14:48.502750",
     "exception": false,
     "start_time": "2023-12-04T02:14:47.964132",
     "status": "completed"
    },
    "tags": []
   },
   "outputs": [
    {
     "data": {
      "text/plain": [
       "<Axes: xlabel='date'>"
      ]
     },
     "execution_count": 36,
     "metadata": {},
     "output_type": "execute_result"
    },
    {
     "data": {
      "image/png": "[encoded data removed]",
      "text/plain": [
       "<Figure size 640x480 with 1 Axes>"
      ]
     },
     "metadata": {},
     "output_type": "display_data"
    }
   ],
   "source": [
    "(\n",
    "    data\n",
    "    .groupby(['date', 'dept_id'])\n",
    "    .sales\n",
    "    .sum()\n",
    "    [:, 'HOUSEHOLD_1']\n",
    "    .plot()\n",
    ")"
   ]
  },
  {
   "cell_type": "code",
   "execution_count": 37,
   "id": "1dd787d0",
   "metadata": {
    "execution": {
     "iopub.execute_input": "2023-12-04T02:14:48.554934Z",
     "iopub.status.busy": "2023-12-04T02:14:48.554503Z",
     "iopub.status.idle": "2023-12-04T02:14:48.908046Z",
     "shell.execute_reply": "2023-12-04T02:14:48.906719Z"
    },
    "papermill": {
     "duration": 0.382567,
     "end_time": "2023-12-04T02:14:48.910898",
     "exception": false,
     "start_time": "2023-12-04T02:14:48.528331",
     "status": "completed"
    },
    "tags": []
   },
   "outputs": [
    {
     "data": {
      "text/plain": [
       "<Axes: xlabel='Lag', ylabel='Autocorrelation'>"
      ]
     },
     "execution_count": 37,
     "metadata": {},
     "output_type": "execute_result"
    },
    {
     "data": {
      "image/png": "[encoded data removed]",
      "text/plain": [
       "<Figure size 640x480 with 1 Axes>"
      ]
     },
     "metadata": {},
     "output_type": "display_data"
    }
   ],
   "source": [
    "data_plot = (\n",
    "    data\n",
    "    .groupby(['date', 'dept_id'])\n",
    "    .sales\n",
    "    .sum()\n",
    "    [:, 'HOBBIES_1']\n",
    ")\n",
    "pd.plotting.autocorrelation_plot(data_plot)"
   ]
  },
  {
   "cell_type": "code",
   "execution_count": 38,
   "id": "e4a57200",
   "metadata": {
    "execution": {
     "iopub.execute_input": "2023-12-04T02:14:48.965069Z",
     "iopub.status.busy": "2023-12-04T02:14:48.964665Z",
     "iopub.status.idle": "2023-12-04T02:14:49.440881Z",
     "shell.execute_reply": "2023-12-04T02:14:49.439547Z"
    },
    "papermill": {
     "duration": 0.50633,
     "end_time": "2023-12-04T02:14:49.443510",
     "exception": false,
     "start_time": "2023-12-04T02:14:48.937180",
     "status": "completed"
    },
    "tags": []
   },
   "outputs": [
    {
     "data": {
      "image/png": "[encoded data removed]",
      "text/plain": [
       "<Figure size 640x480 with 1 Axes>"
      ]
     },
     "metadata": {},
     "output_type": "display_data"
    }
   ],
   "source": [
    "data_plot = (\n",
    "    data\n",
    "    .groupby(['date', 'dept_id'])\n",
    "    .sales\n",
    "    .sum()\n",
    "    [:, 'FOODS_1']\n",
    ").plot()\n"
   ]
  },
  {
   "cell_type": "markdown",
   "id": "6a54c265",
   "metadata": {
    "papermill": {
     "duration": 0.027481,
     "end_time": "2023-12-04T02:14:49.497864",
     "exception": false,
     "start_time": "2023-12-04T02:14:49.470383",
     "status": "completed"
    },
    "tags": []
   },
   "source": [
    "## Training some models!"
   ]
  },
  {
   "cell_type": "markdown",
   "id": "d73faaed",
   "metadata": {
    "papermill": {
     "duration": 0.025971,
     "end_time": "2023-12-04T02:14:49.549450",
     "exception": false,
     "start_time": "2023-12-04T02:14:49.523479",
     "status": "completed"
    },
    "tags": []
   },
   "source": [
    "Finally, we can train some models!\n",
    "\n",
    "We're going to use the [statsforecast](https://github.com/Nixtla/statsforecast) library, since it makes training statistical time-series models really easy. There are other great libraries (like [darts](https://unit8co.github.io/darts/), which is more mature of a package) but I like `statsforecast` a bit more for these models. Eventually, we'll get to training our own models from scratch.\n",
    "\n",
    "Here's what you need to do:\n",
    "\n",
    "1. Aggregate sales up to the `date`/`dept_id` level so each date has 7 distinct records (one for each `dept_id`).\n",
    "2. Convert your aggregated data into the [format that `statsforecast` likes](https://nixtla.github.io/statsforecast/examples/getting_started_short.html).\n",
    "3. Fit and evaluate some models! This part is made straightforward by `statsforecast` so feel free to fit whatever you want, but focus on models like [this one](https://nixtla.github.io/statsforecast/models.html#arima-family) and [this one](https://nixtla.github.io/statsforecast/models.html#holt-winters-method) since we discussed them. Their documentation has a [quickstart](https://nixtla.github.io/statsforecast/examples/getting_started_short.html) to get going. I provided you with some helper code below to get started.\n",
    "    - Play around with `ARIMA` and `HoltWinters` and tune them using your intution, then compare them to [`AutoARIMA`](https://nixtla.github.io/statsforecast/models.html#autoarima) and [`AutoETS`](https://nixtla.github.io/statsforecast/models.html#autoets), which do the tuning for you!\n",
    "4. (If your time permits) try out other libraries! Go try to fit a [Prophet](https://facebook.github.io/prophet/docs/quick_start.html#python-api) model, fit some models using `darts` and see how they compare, etc."
   ]
  },
  {
   "cell_type": "code",
   "execution_count": 39,
   "id": "198a3b0f",
   "metadata": {
    "execution": {
     "iopub.execute_input": "2023-12-04T02:14:49.606700Z",
     "iopub.status.busy": "2023-12-04T02:14:49.606301Z",
     "iopub.status.idle": "2023-12-04T02:15:16.628934Z",
     "shell.execute_reply": "2023-12-04T02:15:16.626561Z"
    },
    "papermill": {
     "duration": 27.05503,
     "end_time": "2023-12-04T02:15:16.632177",
     "exception": false,
     "start_time": "2023-12-04T02:14:49.577147",
     "status": "completed"
    },
    "tags": []
   },
   "outputs": [
    {
     "name": "stdout",
     "output_type": "stream",
     "text": [
      "Collecting statsforecast==1.5.0\r\n",
      "  Downloading statsforecast-1.5.0-py3-none-any.whl (99 kB)\r\n",
      "\u001b[2K     \u001b[90m━━━━━━━━━━━━━━━━━━━━━━━━━━━━━━━━━━━━━━━\u001b[0m \u001b[32m100.0/100.0 kB\u001b[0m \u001b[31m4.8 MB/s\u001b[0m eta \u001b[36m0:00:00\u001b[0m\r\n",
      "\u001b[?25hRequirement already satisfied: matplotlib in /opt/conda/lib/python3.10/site-packages (from statsforecast==1.5.0) (3.7.3)\r\n",
      "Requirement already satisfied: numba>=0.55.0 in /opt/conda/lib/python3.10/site-packages (from statsforecast==1.5.0) (0.57.1)\r\n",
      "Requirement already satisfied: numpy>=1.21.6 in /opt/conda/lib/python3.10/site-packages (from statsforecast==1.5.0) (1.24.3)\r\n",
      "Requirement already satisfied: pandas>=1.3.5 in /opt/conda/lib/python3.10/site-packages (from statsforecast==1.5.0) (2.0.3)\r\n",
      "Requirement already satisfied: plotly in /opt/conda/lib/python3.10/site-packages (from statsforecast==1.5.0) (5.16.1)\r\n",
      "Requirement already satisfied: scipy>=1.7.3 in /opt/conda/lib/python3.10/site-packages (from statsforecast==1.5.0) (1.11.3)\r\n",
      "Requirement already satisfied: statsmodels>=0.13.2 in /opt/conda/lib/python3.10/site-packages (from statsforecast==1.5.0) (0.14.0)\r\n",
      "Requirement already satisfied: tqdm in /opt/conda/lib/python3.10/site-packages (from statsforecast==1.5.0) (4.66.1)\r\n",
      "Collecting plotly-resampler (from statsforecast==1.5.0)\r\n",
      "  Obtaining dependency information for plotly-resampler from https://files.pythonhosted.org/packages/08/1d/87d4ed45c26226630bcb0a205ff006c00645cc68977e22c0f6f16a7f5d2b/plotly_resampler-0.9.1-py3-none-any.whl.metadata\r\n",
      "  Downloading plotly_resampler-0.9.1-py3-none-any.whl.metadata (12 kB)\r\n",
      "Collecting fugue>=0.8.1 (from statsforecast==1.5.0)\r\n",
      "  Obtaining dependency information for fugue>=0.8.1 from https://files.pythonhosted.org/packages/ae/47/d3449da0b9cad85a361bc1003554710a5b612cf60bc2840096e93e5cdbb3/fugue-0.8.7-py3-none-any.whl.metadata\r\n",
      "  Downloading fugue-0.8.7-py3-none-any.whl.metadata (17 kB)\r\n",
      "Collecting triad>=0.9.3 (from fugue>=0.8.1->statsforecast==1.5.0)\r\n",
      "  Obtaining dependency information for triad>=0.9.3 from https://files.pythonhosted.org/packages/19/63/8272d8796118d04c939c7300c5a9f535951be2adfcf099f3fbcc62f0d838/triad-0.9.3-py3-none-any.whl.metadata\r\n",
      "  Downloading triad-0.9.3-py3-none-any.whl.metadata (5.8 kB)\r\n",
      "Collecting adagio>=0.2.4 (from fugue>=0.8.1->statsforecast==1.5.0)\r\n",
      "  Downloading adagio-0.2.4-py3-none-any.whl (26 kB)\r\n",
      "Collecting qpd>=0.4.4 (from fugue>=0.8.1->statsforecast==1.5.0)\r\n",
      "  Obtaining dependency information for qpd>=0.4.4 from https://files.pythonhosted.org/packages/56/1f/909bff3b693dc50e0e4318922a93d3047c948acd3011a8c39665cc125d19/qpd-0.4.4-py3-none-any.whl.metadata\r\n",
      "  Downloading qpd-0.4.4-py3-none-any.whl.metadata (6.4 kB)\r\n",
      "Collecting fugue-sql-antlr>=0.1.6 (from fugue>=0.8.1->statsforecast==1.5.0)\r\n",
      "  Downloading fugue-sql-antlr-0.1.8.tar.gz (154 kB)\r\n",
      "\u001b[2K     \u001b[90m━━━━━━━━━━━━━━━━━━━━━━━━━━━━━━━━━━━━━━\u001b[0m \u001b[32m154.7/154.7 kB\u001b[0m \u001b[31m11.4 MB/s\u001b[0m eta \u001b[36m0:00:00\u001b[0m\r\n",
      "\u001b[?25h  Preparing metadata (setup.py) ... \u001b[?25l-\b \b\\\b \bdone\r\n",
      "\u001b[?25hCollecting sqlglot (from fugue>=0.8.1->statsforecast==1.5.0)\r\n",
      "  Obtaining dependency information for sqlglot from https://files.pythonhosted.org/packages/e9/d4/3cebff2065a10b087b7d4e133c78e67634f81917084239eb6de8de8f47c6/sqlglot-19.8.2-py3-none-any.whl.metadata\r\n",
      "  Downloading sqlglot-19.8.2-py3-none-any.whl.metadata (15 kB)\r\n",
      "Requirement already satisfied: jinja2 in /opt/conda/lib/python3.10/site-packages (from fugue>=0.8.1->statsforecast==1.5.0) (3.1.2)\r\n",
      "Requirement already satisfied: llvmlite<0.41,>=0.40.0dev0 in /opt/conda/lib/python3.10/site-packages (from numba>=0.55.0->statsforecast==1.5.0) (0.40.1)\r\n",
      "Requirement already satisfied: python-dateutil>=2.8.2 in /opt/conda/lib/python3.10/site-packages (from pandas>=1.3.5->statsforecast==1.5.0) (2.8.2)\r\n",
      "Requirement already satisfied: pytz>=2020.1 in /opt/conda/lib/python3.10/site-packages (from pandas>=1.3.5->statsforecast==1.5.0) (2023.3)\r\n",
      "Requirement already satisfied: tzdata>=2022.1 in /opt/conda/lib/python3.10/site-packages (from pandas>=1.3.5->statsforecast==1.5.0) (2023.3)\r\n",
      "Requirement already satisfied: patsy>=0.5.2 in /opt/conda/lib/python3.10/site-packages (from statsmodels>=0.13.2->statsforecast==1.5.0) (0.5.3)\r\n",
      "Requirement already satisfied: packaging>=21.3 in /opt/conda/lib/python3.10/site-packages (from statsmodels>=0.13.2->statsforecast==1.5.0) (21.3)\r\n",
      "Requirement already satisfied: contourpy>=1.0.1 in /opt/conda/lib/python3.10/site-packages (from matplotlib->statsforecast==1.5.0) (1.1.0)\r\n",
      "Requirement already satisfied: cycler>=0.10 in /opt/conda/lib/python3.10/site-packages (from matplotlib->statsforecast==1.5.0) (0.11.0)\r\n",
      "Requirement already satisfied: fonttools>=4.22.0 in /opt/conda/lib/python3.10/site-packages (from matplotlib->statsforecast==1.5.0) (4.42.1)\r\n",
      "Requirement already satisfied: kiwisolver>=1.0.1 in /opt/conda/lib/python3.10/site-packages (from matplotlib->statsforecast==1.5.0) (1.4.4)\r\n",
      "Requirement already satisfied: pillow>=6.2.0 in /opt/conda/lib/python3.10/site-packages (from matplotlib->statsforecast==1.5.0) (10.1.0)\r\n",
      "Requirement already satisfied: pyparsing>=2.3.1 in /opt/conda/lib/python3.10/site-packages (from matplotlib->statsforecast==1.5.0) (3.0.9)\r\n",
      "Requirement already satisfied: tenacity>=6.2.0 in /opt/conda/lib/python3.10/site-packages (from plotly->statsforecast==1.5.0) (8.2.3)\r\n",
      "Collecting dash<3.0.0,>=2.11.0 (from plotly-resampler->statsforecast==1.5.0)\r\n",
      "  Obtaining dependency information for dash<3.0.0,>=2.11.0 from https://files.pythonhosted.org/packages/7b/62/438626ab498869249e99376684ba6d88931e7c2dd86d03a92d9d7a9b4c54/dash-2.14.2-py3-none-any.whl.metadata\r\n",
      "  Downloading dash-2.14.2-py3-none-any.whl.metadata (11 kB)\r\n",
      "Requirement already satisfied: orjson<4.0.0,>=3.8.0 in /opt/conda/lib/python3.10/site-packages (from plotly-resampler->statsforecast==1.5.0) (3.9.5)\r\n",
      "Collecting trace-updater>=0.0.8 (from plotly-resampler->statsforecast==1.5.0)\r\n",
      "  Downloading trace_updater-0.0.9.1-py3-none-any.whl (185 kB)\r\n",
      "\u001b[2K     \u001b[90m━━━━━━━━━━━━━━━━━━━━━━━━━━━━━━━━━━━━━━\u001b[0m \u001b[32m185.2/185.2 kB\u001b[0m \u001b[31m14.7 MB/s\u001b[0m eta \u001b[36m0:00:00\u001b[0m\r\n",
      "\u001b[?25hCollecting tsdownsample==0.1.2 (from plotly-resampler->statsforecast==1.5.0)\r\n",
      "  Downloading tsdownsample-0.1.2-cp310-cp310-manylinux_2_17_x86_64.manylinux2014_x86_64.whl (2.3 MB)\r\n",
      "\u001b[2K     \u001b[90m━━━━━━━━━━━━━━━━━━━━━━━━━━━━━━━━━━━━━━━━\u001b[0m \u001b[32m2.3/2.3 MB\u001b[0m \u001b[31m56.3 MB/s\u001b[0m eta \u001b[36m0:00:00\u001b[0m\r\n",
      "\u001b[?25hRequirement already satisfied: Flask<3.1,>=1.0.4 in /opt/conda/lib/python3.10/site-packages (from dash<3.0.0,>=2.11.0->plotly-resampler->statsforecast==1.5.0) (3.0.0)\r\n",
      "Requirement already satisfied: Werkzeug<3.1 in /opt/conda/lib/python3.10/site-packages (from dash<3.0.0,>=2.11.0->plotly-resampler->statsforecast==1.5.0) (3.0.1)\r\n",
      "Collecting dash-html-components==2.0.0 (from dash<3.0.0,>=2.11.0->plotly-resampler->statsforecast==1.5.0)\r\n",
      "  Downloading dash_html_components-2.0.0-py3-none-any.whl (4.1 kB)\r\n",
      "Collecting dash-core-components==2.0.0 (from dash<3.0.0,>=2.11.0->plotly-resampler->statsforecast==1.5.0)\r\n",
      "  Downloading dash_core_components-2.0.0-py3-none-any.whl (3.8 kB)\r\n",
      "Collecting dash-table==5.0.0 (from dash<3.0.0,>=2.11.0->plotly-resampler->statsforecast==1.5.0)\r\n",
      "  Downloading dash_table-5.0.0-py3-none-any.whl (3.9 kB)\r\n",
      "Requirement already satisfied: typing-extensions>=4.1.1 in /opt/conda/lib/python3.10/site-packages (from dash<3.0.0,>=2.11.0->plotly-resampler->statsforecast==1.5.0) (4.5.0)\r\n",
      "Requirement already satisfied: requests in /opt/conda/lib/python3.10/site-packages (from dash<3.0.0,>=2.11.0->plotly-resampler->statsforecast==1.5.0) (2.31.0)\r\n",
      "Requirement already satisfied: retrying in /opt/conda/lib/python3.10/site-packages (from dash<3.0.0,>=2.11.0->plotly-resampler->statsforecast==1.5.0) (1.3.3)\r\n",
      "Collecting ansi2html (from dash<3.0.0,>=2.11.0->plotly-resampler->statsforecast==1.5.0)\r\n",
      "  Downloading ansi2html-1.8.0-py3-none-any.whl (16 kB)\r\n",
      "Requirement already satisfied: nest-asyncio in /opt/conda/lib/python3.10/site-packages (from dash<3.0.0,>=2.11.0->plotly-resampler->statsforecast==1.5.0) (1.5.6)\r\n",
      "Requirement already satisfied: setuptools in /opt/conda/lib/python3.10/site-packages (from dash<3.0.0,>=2.11.0->plotly-resampler->statsforecast==1.5.0) (68.1.2)\r\n",
      "Requirement already satisfied: importlib-metadata in /opt/conda/lib/python3.10/site-packages (from dash<3.0.0,>=2.11.0->plotly-resampler->statsforecast==1.5.0) (6.8.0)\r\n",
      "Collecting antlr4-python3-runtime<4.12 (from fugue-sql-antlr>=0.1.6->fugue>=0.8.1->statsforecast==1.5.0)\r\n",
      "  Downloading antlr4_python3_runtime-4.11.1-py3-none-any.whl (144 kB)\r\n",
      "\u001b[2K     \u001b[90m━━━━━━━━━━━━━━━━━━━━━━━━━━━━━━━━━━━━━━\u001b[0m \u001b[32m144.2/144.2 kB\u001b[0m \u001b[31m12.5 MB/s\u001b[0m eta \u001b[36m0:00:00\u001b[0m\r\n",
      "\u001b[?25hRequirement already satisfied: six in /opt/conda/lib/python3.10/site-packages (from patsy>=0.5.2->statsmodels>=0.13.2->statsforecast==1.5.0) (1.16.0)\r\n",
      "Requirement already satisfied: pyarrow>=6.0.1 in /opt/conda/lib/python3.10/site-packages (from triad>=0.9.3->fugue>=0.8.1->statsforecast==1.5.0) (14.0.1)\r\n",
      "Requirement already satisfied: fsspec>=2022.5.0 in /opt/conda/lib/python3.10/site-packages (from triad>=0.9.3->fugue>=0.8.1->statsforecast==1.5.0) (2023.10.0)\r\n",
      "Collecting fs (from triad>=0.9.3->fugue>=0.8.1->statsforecast==1.5.0)\r\n",
      "  Downloading fs-2.4.16-py2.py3-none-any.whl (135 kB)\r\n",
      "\u001b[2K     \u001b[90m━━━━━━━━━━━━━━━━━━━━━━━━━━━━━━━━━━━━━━\u001b[0m \u001b[32m135.3/135.3 kB\u001b[0m \u001b[31m11.3 MB/s\u001b[0m eta \u001b[36m0:00:00\u001b[0m\r\n",
      "\u001b[?25hRequirement already satisfied: MarkupSafe>=2.0 in /opt/conda/lib/python3.10/site-packages (from jinja2->fugue>=0.8.1->statsforecast==1.5.0) (2.1.3)\r\n",
      "Requirement already satisfied: itsdangerous>=2.1.2 in /opt/conda/lib/python3.10/site-packages (from Flask<3.1,>=1.0.4->dash<3.0.0,>=2.11.0->plotly-resampler->statsforecast==1.5.0) (2.1.2)\r\n",
      "Requirement already satisfied: click>=8.1.3 in /opt/conda/lib/python3.10/site-packages (from Flask<3.1,>=1.0.4->dash<3.0.0,>=2.11.0->plotly-resampler->statsforecast==1.5.0) (8.1.7)\r\n",
      "Requirement already satisfied: blinker>=1.6.2 in /opt/conda/lib/python3.10/site-packages (from Flask<3.1,>=1.0.4->dash<3.0.0,>=2.11.0->plotly-resampler->statsforecast==1.5.0) (1.7.0)\r\n",
      "Requirement already satisfied: appdirs~=1.4.3 in /opt/conda/lib/python3.10/site-packages (from fs->triad>=0.9.3->fugue>=0.8.1->statsforecast==1.5.0) (1.4.4)\r\n",
      "Requirement already satisfied: zipp>=0.5 in /opt/conda/lib/python3.10/site-packages (from importlib-metadata->dash<3.0.0,>=2.11.0->plotly-resampler->statsforecast==1.5.0) (3.16.2)\r\n",
      "Requirement already satisfied: charset-normalizer<4,>=2 in /opt/conda/lib/python3.10/site-packages (from requests->dash<3.0.0,>=2.11.0->plotly-resampler->statsforecast==1.5.0) (3.2.0)\r\n",
      "Requirement already satisfied: idna<4,>=2.5 in /opt/conda/lib/python3.10/site-packages (from requests->dash<3.0.0,>=2.11.0->plotly-resampler->statsforecast==1.5.0) (3.4)\r\n",
      "Requirement already satisfied: urllib3<3,>=1.21.1 in /opt/conda/lib/python3.10/site-packages (from requests->dash<3.0.0,>=2.11.0->plotly-resampler->statsforecast==1.5.0) (1.26.15)\r\n",
      "Requirement already satisfied: certifi>=2017.4.17 in /opt/conda/lib/python3.10/site-packages (from requests->dash<3.0.0,>=2.11.0->plotly-resampler->statsforecast==1.5.0) (2023.7.22)\r\n",
      "Downloading fugue-0.8.7-py3-none-any.whl (279 kB)\r\n",
      "\u001b[2K   \u001b[90m━━━━━━━━━━━━━━━━━━━━━━━━━━━━━━━━━━━━━━━━\u001b[0m \u001b[32m279.8/279.8 kB\u001b[0m \u001b[31m19.6 MB/s\u001b[0m eta \u001b[36m0:00:00\u001b[0m\r\n",
      "\u001b[?25hDownloading plotly_resampler-0.9.1-py3-none-any.whl (73 kB)\r\n",
      "\u001b[2K   \u001b[90m━━━━━━━━━━━━━━━━━━━━━━━━━━━━━━━━━━━━━━━━\u001b[0m \u001b[32m73.4/73.4 kB\u001b[0m \u001b[31m6.0 MB/s\u001b[0m eta \u001b[36m0:00:00\u001b[0m\r\n",
      "\u001b[?25hDownloading dash-2.14.2-py3-none-any.whl (10.2 MB)\r\n",
      "\u001b[2K   \u001b[90m━━━━━━━━━━━━━━━━━━━━━━━━━━━━━━━━━━━━━━━━\u001b[0m \u001b[32m10.2/10.2 MB\u001b[0m \u001b[31m68.6 MB/s\u001b[0m eta \u001b[36m0:00:00\u001b[0m\r\n",
      "\u001b[?25hDownloading qpd-0.4.4-py3-none-any.whl (169 kB)\r\n",
      "\u001b[2K   \u001b[90m━━━━━━━━━━━━━━━━━━━━━━━━━━━━━━━━━━━━━━━━\u001b[0m \u001b[32m169.2/169.2 kB\u001b[0m \u001b[31m13.9 MB/s\u001b[0m eta \u001b[36m0:00:00\u001b[0m\r\n",
      "\u001b[?25hDownloading triad-0.9.3-py3-none-any.whl (60 kB)\r\n",
      "\u001b[2K   \u001b[90m━━━━━━━━━━━━━━━━━━━━━━━━━━━━━━━━━━━━━━━━\u001b[0m \u001b[32m60.4/60.4 kB\u001b[0m \u001b[31m4.8 MB/s\u001b[0m eta \u001b[36m0:00:00\u001b[0m\r\n",
      "\u001b[?25hDownloading sqlglot-19.8.2-py3-none-any.whl (335 kB)\r\n",
      "\u001b[2K   \u001b[90m━━━━━━━━━━━━━━━━━━━━━━━━━━━━━━━━━━━━━━━━\u001b[0m \u001b[32m335.7/335.7 kB\u001b[0m \u001b[31m23.6 MB/s\u001b[0m eta \u001b[36m0:00:00\u001b[0m\r\n",
      "\u001b[?25hBuilding wheels for collected packages: fugue-sql-antlr\r\n",
      "  Building wheel for fugue-sql-antlr (setup.py) ... \u001b[?25l-\b \b\\\b \b|\b \bdone\r\n",
      "\u001b[?25h  Created wheel for fugue-sql-antlr: filename=fugue_sql_antlr-0.1.8-py3-none-any.whl size=158201 sha256=6b68dd86845596c118d3132cbbb84578ac795c231c4637cb863acf39e36a246f\r\n",
      "  Stored in directory: /root/.cache/pip/wheels/a4/2b/3e/8ac985ad100a8f27de940864344fe14f47bc3d2fed7f29bf70\r\n",
      "Successfully built fugue-sql-antlr\r\n",
      "Installing collected packages: trace-updater, dash-table, dash-html-components, dash-core-components, antlr4-python3-runtime, tsdownsample, sqlglot, fs, ansi2html, triad, dash, plotly-resampler, fugue-sql-antlr, adagio, qpd, fugue, statsforecast\r\n",
      "Successfully installed adagio-0.2.4 ansi2html-1.8.0 antlr4-python3-runtime-4.11.1 dash-2.14.2 dash-core-components-2.0.0 dash-html-components-2.0.0 dash-table-5.0.0 fs-2.4.16 fugue-0.8.7 fugue-sql-antlr-0.1.8 plotly-resampler-0.9.1 qpd-0.4.4 sqlglot-19.8.2 statsforecast-1.5.0 trace-updater-0.0.9.1 triad-0.9.3 tsdownsample-0.1.2\r\n"
     ]
    }
   ],
   "source": [
    "# You'll see a lot of \"WARNING: Retrying\" outputs if you don't have internet enabled\n",
    "# This happens because you haven't verified your phone number for your Kaggle profile.\n",
    "# To do that, you'll need to exit the notebook, go to your profile, go to \"account\", and verify your phone number.\n",
    "# Other than that, don't worry about any error outputs you see from this\n",
    "! pip install statsforecast==1.5.0"
   ]
  },
  {
   "cell_type": "code",
   "execution_count": 40,
   "id": "d0a1d2dc",
   "metadata": {
    "execution": {
     "iopub.execute_input": "2023-12-04T02:15:16.704469Z",
     "iopub.status.busy": "2023-12-04T02:15:16.703200Z",
     "iopub.status.idle": "2023-12-04T02:15:22.623208Z",
     "shell.execute_reply": "2023-12-04T02:15:22.621903Z"
    },
    "papermill": {
     "duration": 5.961111,
     "end_time": "2023-12-04T02:15:22.626231",
     "exception": false,
     "start_time": "2023-12-04T02:15:16.665120",
     "status": "completed"
    },
    "tags": []
   },
   "outputs": [
    {
     "name": "stderr",
     "output_type": "stream",
     "text": [
      "/opt/conda/lib/python3.10/site-packages/statsforecast/core.py:21: TqdmExperimentalWarning: Using `tqdm.autonotebook.tqdm` in notebook mode. Use `tqdm.tqdm` instead to force console mode (e.g. in jupyter console)\n",
      "  from tqdm.autonotebook import tqdm\n"
     ]
    }
   ],
   "source": [
    "from statsforecast import StatsForecast\n",
    "from statsforecast.models import ARIMA, HoltWinters"
   ]
  },
  {
   "cell_type": "code",
   "execution_count": 41,
   "id": "fb8203b3",
   "metadata": {
    "execution": {
     "iopub.execute_input": "2023-12-04T02:15:22.692518Z",
     "iopub.status.busy": "2023-12-04T02:15:22.692067Z",
     "iopub.status.idle": "2023-12-04T02:15:22.714511Z",
     "shell.execute_reply": "2023-12-04T02:15:22.713179Z"
    },
    "papermill": {
     "duration": 0.058955,
     "end_time": "2023-12-04T02:15:22.717090",
     "exception": false,
     "start_time": "2023-12-04T02:15:22.658135",
     "status": "completed"
    },
    "tags": []
   },
   "outputs": [
    {
     "data": {
      "text/html": [
       "<div>\n",
       "<style scoped>\n",
       "    .dataframe tbody tr th:only-of-type {\n",
       "        vertical-align: middle;\n",
       "    }\n",
       "\n",
       "    .dataframe tbody tr th {\n",
       "        vertical-align: top;\n",
       "    }\n",
       "\n",
       "    .dataframe thead th {\n",
       "        text-align: right;\n",
       "    }\n",
       "</style>\n",
       "<table border=\"1\" class=\"dataframe\">\n",
       "  <thead>\n",
       "    <tr style=\"text-align: right;\">\n",
       "      <th></th>\n",
       "      <th>date</th>\n",
       "      <th>dept_id</th>\n",
       "      <th>sales</th>\n",
       "    </tr>\n",
       "  </thead>\n",
       "  <tbody>\n",
       "    <tr>\n",
       "      <th>0</th>\n",
       "      <td>2013-01-01</td>\n",
       "      <td>FOODS_1</td>\n",
       "      <td>0.0</td>\n",
       "    </tr>\n",
       "    <tr>\n",
       "      <th>1</th>\n",
       "      <td>2013-01-01</td>\n",
       "      <td>FOODS_3</td>\n",
       "      <td>22.0</td>\n",
       "    </tr>\n",
       "    <tr>\n",
       "      <th>2</th>\n",
       "      <td>2013-01-01</td>\n",
       "      <td>HOBBIES_1</td>\n",
       "      <td>6.0</td>\n",
       "    </tr>\n",
       "    <tr>\n",
       "      <th>3</th>\n",
       "      <td>2013-01-01</td>\n",
       "      <td>HOBBIES_2</td>\n",
       "      <td>0.0</td>\n",
       "    </tr>\n",
       "    <tr>\n",
       "      <th>4</th>\n",
       "      <td>2013-01-01</td>\n",
       "      <td>HOUSEHOLD_1</td>\n",
       "      <td>4.0</td>\n",
       "    </tr>\n",
       "  </tbody>\n",
       "</table>\n",
       "</div>"
      ],
      "text/plain": [
       "        date      dept_id  sales\n",
       "0 2013-01-01      FOODS_1    0.0\n",
       "1 2013-01-01      FOODS_3   22.0\n",
       "2 2013-01-01    HOBBIES_1    6.0\n",
       "3 2013-01-01    HOBBIES_2    0.0\n",
       "4 2013-01-01  HOUSEHOLD_1    4.0"
      ]
     },
     "execution_count": 41,
     "metadata": {},
     "output_type": "execute_result"
    }
   ],
   "source": [
    "# Aggregate data to date/dept_id level\n",
    "\n",
    "train_data = data.groupby(['date', 'dept_id']).sales.agg('sum').reset_index()\n",
    "train_data.head()"
   ]
  },
  {
   "cell_type": "code",
   "execution_count": 42,
   "id": "a233a892",
   "metadata": {
    "execution": {
     "iopub.execute_input": "2023-12-04T02:15:22.784975Z",
     "iopub.status.busy": "2023-12-04T02:15:22.784514Z",
     "iopub.status.idle": "2023-12-04T02:16:11.460995Z",
     "shell.execute_reply": "2023-12-04T02:16:11.459763Z"
    },
    "papermill": {
     "duration": 48.74479,
     "end_time": "2023-12-04T02:16:11.495450",
     "exception": false,
     "start_time": "2023-12-04T02:15:22.750660",
     "status": "completed"
    },
    "tags": []
   },
   "outputs": [
    {
     "data": {
      "text/plain": [
       "StatsForecast(models=[ARIMA,HoltWinters])"
      ]
     },
     "execution_count": 42,
     "metadata": {},
     "output_type": "execute_result"
    }
   ],
   "source": [
    "df = train_data.rename(columns={\n",
    "    'dept_id': 'unique_id',\n",
    "    'date': 'ds',\n",
    "    'sales': 'y'\n",
    "})\n",
    "train_df = df[df.ds < pd.Timestamp('2016-04-24')]\n",
    "\n",
    "sf = StatsForecast(\n",
    "    models=[\n",
    "        # SARIMA(1, 1, 1)(1, 1, 1),7\n",
    "        ARIMA(order=(1, 1, 1), seasonal_order=(1, 1, 1), season_length=7),\n",
    "        # ETS model\n",
    "        HoltWinters(season_length=7)\n",
    "    ],\n",
    "    freq='D'\n",
    ")\n",
    "sf.fit(train_df)"
   ]
  },
  {
   "cell_type": "code",
   "execution_count": 43,
   "id": "45894262",
   "metadata": {
    "execution": {
     "iopub.execute_input": "2023-12-04T02:16:11.562396Z",
     "iopub.status.busy": "2023-12-04T02:16:11.561961Z",
     "iopub.status.idle": "2023-12-04T02:16:14.372907Z",
     "shell.execute_reply": "2023-12-04T02:16:14.371652Z"
    },
    "papermill": {
     "duration": 2.847498,
     "end_time": "2023-12-04T02:16:14.375444",
     "exception": false,
     "start_time": "2023-12-04T02:16:11.527946",
     "status": "completed"
    },
    "tags": []
   },
   "outputs": [
    {
     "name": "stderr",
     "output_type": "stream",
     "text": [
      "<__array_function__ internals>:200: RuntimeWarning: invalid value encountered in cast\n"
     ]
    },
    {
     "data": {
      "text/html": [
       "<div>\n",
       "<style scoped>\n",
       "    .dataframe tbody tr th:only-of-type {\n",
       "        vertical-align: middle;\n",
       "    }\n",
       "\n",
       "    .dataframe tbody tr th {\n",
       "        vertical-align: top;\n",
       "    }\n",
       "\n",
       "    .dataframe thead th {\n",
       "        text-align: right;\n",
       "    }\n",
       "</style>\n",
       "<table border=\"1\" class=\"dataframe\">\n",
       "  <thead>\n",
       "    <tr style=\"text-align: right;\">\n",
       "      <th></th>\n",
       "      <th>ds</th>\n",
       "      <th>ARIMA</th>\n",
       "      <th>HoltWinters</th>\n",
       "    </tr>\n",
       "    <tr>\n",
       "      <th>unique_id</th>\n",
       "      <th></th>\n",
       "      <th></th>\n",
       "      <th></th>\n",
       "    </tr>\n",
       "  </thead>\n",
       "  <tbody>\n",
       "    <tr>\n",
       "      <th>HOUSEHOLD_1</th>\n",
       "      <td>2016-04-25</td>\n",
       "      <td>19.949207</td>\n",
       "      <td>17.479198</td>\n",
       "    </tr>\n",
       "    <tr>\n",
       "      <th>HOUSEHOLD_1</th>\n",
       "      <td>2016-04-26</td>\n",
       "      <td>17.778656</td>\n",
       "      <td>15.428312</td>\n",
       "    </tr>\n",
       "    <tr>\n",
       "      <th>HOUSEHOLD_1</th>\n",
       "      <td>2016-04-27</td>\n",
       "      <td>19.465820</td>\n",
       "      <td>18.180443</td>\n",
       "    </tr>\n",
       "    <tr>\n",
       "      <th>HOUSEHOLD_1</th>\n",
       "      <td>2016-04-28</td>\n",
       "      <td>19.071482</td>\n",
       "      <td>17.792315</td>\n",
       "    </tr>\n",
       "    <tr>\n",
       "      <th>HOUSEHOLD_1</th>\n",
       "      <td>2016-04-29</td>\n",
       "      <td>18.758923</td>\n",
       "      <td>16.554102</td>\n",
       "    </tr>\n",
       "  </tbody>\n",
       "</table>\n",
       "</div>"
      ],
      "text/plain": [
       "                    ds      ARIMA  HoltWinters\n",
       "unique_id                                     \n",
       "HOUSEHOLD_1 2016-04-25  19.949207    17.479198\n",
       "HOUSEHOLD_1 2016-04-26  17.778656    15.428312\n",
       "HOUSEHOLD_1 2016-04-27  19.465820    18.180443\n",
       "HOUSEHOLD_1 2016-04-28  19.071482    17.792315\n",
       "HOUSEHOLD_1 2016-04-29  18.758923    16.554102"
      ]
     },
     "execution_count": 43,
     "metadata": {},
     "output_type": "execute_result"
    }
   ],
   "source": [
    "forecast_df = sf.predict(h=28)\n",
    "forecast_df.tail()"
   ]
  },
  {
   "cell_type": "markdown",
   "id": "2287ed9f",
   "metadata": {
    "papermill": {
     "duration": 0.032516,
     "end_time": "2023-12-04T02:16:14.440291",
     "exception": false,
     "start_time": "2023-12-04T02:16:14.407775",
     "status": "completed"
    },
    "tags": []
   },
   "source": [
    "These are `plotly` charts, which are interactive. If you're not familiar, you can:\n",
    "- Click a series name in the legend (on the right) to activate/deactivate it in the plots\n",
    "- Hover your mouse over the plots and click + drag to zoom in\n",
    "- Double click on the plots to zoom back out"
   ]
  },
  {
   "cell_type": "code",
   "execution_count": 44,
   "id": "737a9446",
   "metadata": {
    "execution": {
     "iopub.execute_input": "2023-12-04T02:16:14.507223Z",
     "iopub.status.busy": "2023-12-04T02:16:14.506771Z",
     "iopub.status.idle": "2023-12-04T02:16:16.689339Z",
     "shell.execute_reply": "2023-12-04T02:16:16.688195Z"
    },
    "papermill": {
     "duration": 2.218581,
     "end_time": "2023-12-04T02:16:16.691894",
     "exception": false,
     "start_time": "2023-12-04T02:16:14.473313",
     "status": "completed"
    },
    "tags": []
   },
   "outputs": [
    {
     "data": {
      "text/html": [
       "        <script type=\"text/javascript\">\n",
       "        window.PlotlyConfig = {MathJaxConfig: 'local'};\n",
       "        if (window.MathJax && window.MathJax.Hub && window.MathJax.Hub.Config) {window.MathJax.Hub.Config({SVG: {font: \"STIX-Web\"}});}\n",
       "        if (typeof require !== 'undefined') {\n",
       "        require.undef(\"plotly\");\n",
       "        requirejs.config({\n",
       "            paths: {\n",
       "                'plotly': ['https://cdn.plot.ly/plotly-2.25.2.min']\n",
       "            }\n",
       "        });\n",
       "        require(['plotly'], function(Plotly) {\n",
       "            window._Plotly = Plotly;\n",
       "        });\n",
       "        }\n",
       "        </script>\n",
       "        "
      ]
     },
     "metadata": {},
     "output_type": "display_data"
    },
    {
     "data": {
      "text/html": [
       "<div>                            <div id=\"899822a8-f3b8-41e9-9f4f-a85dda71f4d5\" class=\"plotly-graph-div\" style=\"height:450px; width:100%;\"></div>            <script type=\"text/javascript\">                require([\"plotly\"], function(Plotly) {                    window.PLOTLYENV=window.PLOTLYENV || {};                                    if (document.getElementById(\"899822a8-f3b8-41e9-9f4f-a85dda71f4d5\")) {                    Plotly.newPlot(                        \"899822a8-f3b8-41e9-9f4f-a85dda71f4d5\",                        [{\"legendgroup\":\"y\",\"line\":{\"color\":\"#1f77b4\",\"width\":1},\"mode\":\"lines\",\"name\":\"y\",\"showlegend\":true,\"x\":[\"2013-01-01T00:00:00\",\"2013-02-01T00:00:00\",\"2013-03-01T00:00:00\",\"2013-04-01T00:00:00\",\"2013-05-01T00:00:00\",\"2013-06-01T00:00:00\",\"2013-07-01T00:00:00\",\"2013-08-01T00:00:00\",\"2013-09-01T00:00:00\",\"2013-10-01T00:00:00\",\"2013-11-01T00:00:00\",\"2013-12-01T00:00:00\",\"2014-01-01T00:00:00\",\"2014-02-01T00:00:00\",\"2014-03-01T00:00:00\",\"2014-04-01T00:00:00\",\"2014-05-01T00:00:00\",\"2014-06-01T00:00:00\",\"2014-07-01T00:00:00\",\"2014-08-01T00:00:00\",\"2014-09-01T00:00:00\",\"2014-10-01T00:00:00\",\"2014-11-01T00:00:00\",\"2014-12-01T00:00:00\",\"2015-01-01T00:00:00\",\"2015-02-01T00:00:00\",\"2015-03-01T00:00:00\",\"2015-04-01T00:00:00\",\"2015-05-01T00:00:00\",\"2015-06-01T00:00:00\",\"2015-07-01T00:00:00\",\"2015-08-01T00:00:00\",\"2015-09-01T00:00:00\",\"2015-10-01T00:00:00\",\"2015-11-01T00:00:00\",\"2015-12-01T00:00:00\",\"2016-01-01T00:00:00\",\"2016-02-01T00:00:00\",\"2016-03-01T00:00:00\",\"2016-04-01T00:00:00\",\"2016-05-01T00:00:00\",\"2016-06-01T00:00:00\",\"2016-07-01T00:00:00\",\"2016-08-01T00:00:00\",\"2016-09-01T00:00:00\",\"2016-10-01T00:00:00\",\"2016-11-01T00:00:00\"],\"y\":[4.0,15.0,23.0,17.0,18.0,26.0,5.0,9.0,9.0,16.0,23.0,16.0,11.0,16.0,17.0,8.0,7.0,8.0,11.0,20.0,7.0,23.0,23.0,8.0,12.0,14.0,13.0,11.0,19.0,11.0,14.0,20.0,11.0,13.0,24.0,18.0,14.0,23.0,9.0,17.0,14.0,0.0,0.0,0.0,0.0,0.0,0.0],\"type\":\"scatter\",\"xaxis\":\"x\",\"yaxis\":\"y\"},{\"legendgroup\":\"y\",\"line\":{\"color\":\"#1f77b4\",\"width\":1},\"mode\":\"lines\",\"name\":\"y\",\"showlegend\":false,\"x\":[\"2013-01-01T00:00:00\",\"2013-02-01T00:00:00\",\"2013-03-01T00:00:00\",\"2013-04-01T00:00:00\",\"2013-05-01T00:00:00\",\"2013-06-01T00:00:00\",\"2013-07-01T00:00:00\",\"2013-08-01T00:00:00\",\"2013-09-01T00:00:00\",\"2013-10-01T00:00:00\",\"2013-11-01T00:00:00\",\"2013-12-01T00:00:00\",\"2014-01-01T00:00:00\",\"2014-02-01T00:00:00\",\"2014-03-01T00:00:00\",\"2014-04-01T00:00:00\",\"2014-05-01T00:00:00\",\"2014-06-01T00:00:00\",\"2014-07-01T00:00:00\",\"2014-08-01T00:00:00\",\"2014-09-01T00:00:00\",\"2014-10-01T00:00:00\",\"2014-11-01T00:00:00\",\"2014-12-01T00:00:00\",\"2015-01-01T00:00:00\",\"2015-02-01T00:00:00\",\"2015-03-01T00:00:00\",\"2015-04-01T00:00:00\",\"2015-05-01T00:00:00\",\"2015-06-01T00:00:00\",\"2015-07-01T00:00:00\",\"2015-08-01T00:00:00\",\"2015-09-01T00:00:00\",\"2015-10-01T00:00:00\",\"2015-11-01T00:00:00\",\"2015-12-01T00:00:00\",\"2016-01-01T00:00:00\",\"2016-02-01T00:00:00\",\"2016-03-01T00:00:00\",\"2016-04-01T00:00:00\",\"2016-05-01T00:00:00\",\"2016-06-01T00:00:00\",\"2016-07-01T00:00:00\",\"2016-08-01T00:00:00\",\"2016-09-01T00:00:00\",\"2016-10-01T00:00:00\",\"2016-11-01T00:00:00\"],\"y\":[22.0,84.0,89.0,89.0,95.0,162.0,102.0,104.0,122.0,83.0,77.0,53.0,34.0,22.0,127.0,59.0,70.0,110.0,88.0,102.0,90.0,51.0,104.0,63.0,48.0,78.0,44.0,42.0,69.0,57.0,37.0,78.0,42.0,60.0,40.0,36.0,28.0,35.0,62.0,68.0,88.0,0.0,0.0,0.0,0.0,0.0,0.0],\"type\":\"scatter\",\"xaxis\":\"x2\",\"yaxis\":\"y2\"},{\"legendgroup\":\"y\",\"line\":{\"color\":\"#1f77b4\",\"width\":1},\"mode\":\"lines\",\"name\":\"y\",\"showlegend\":false,\"x\":[\"2013-01-01T00:00:00\",\"2013-02-01T00:00:00\",\"2013-03-01T00:00:00\",\"2013-04-01T00:00:00\",\"2013-05-01T00:00:00\",\"2013-06-01T00:00:00\",\"2013-07-01T00:00:00\",\"2013-08-01T00:00:00\",\"2013-09-01T00:00:00\",\"2013-10-01T00:00:00\",\"2013-11-01T00:00:00\",\"2013-12-01T00:00:00\",\"2014-01-01T00:00:00\",\"2014-02-01T00:00:00\",\"2014-03-01T00:00:00\",\"2014-04-01T00:00:00\",\"2014-05-01T00:00:00\",\"2014-06-01T00:00:00\",\"2014-07-01T00:00:00\",\"2014-08-01T00:00:00\",\"2014-09-01T00:00:00\",\"2014-10-01T00:00:00\",\"2014-11-01T00:00:00\",\"2014-12-01T00:00:00\",\"2015-01-01T00:00:00\",\"2015-02-01T00:00:00\",\"2015-03-01T00:00:00\",\"2015-04-01T00:00:00\",\"2015-05-01T00:00:00\",\"2015-06-01T00:00:00\",\"2015-07-01T00:00:00\",\"2015-08-01T00:00:00\",\"2015-09-01T00:00:00\",\"2015-10-01T00:00:00\",\"2015-11-01T00:00:00\",\"2015-12-01T00:00:00\",\"2016-01-01T00:00:00\",\"2016-02-01T00:00:00\",\"2016-03-01T00:00:00\",\"2016-04-01T00:00:00\",\"2016-05-01T00:00:00\",\"2016-06-01T00:00:00\",\"2016-07-01T00:00:00\",\"2016-08-01T00:00:00\",\"2016-09-01T00:00:00\",\"2016-10-01T00:00:00\",\"2016-11-01T00:00:00\"],\"y\":[6.0,10.0,2.0,6.0,1.0,13.0,4.0,3.0,7.0,4.0,13.0,8.0,3.0,3.0,12.0,2.0,4.0,11.0,4.0,6.0,4.0,4.0,3.0,9.0,4.0,7.0,7.0,3.0,4.0,2.0,3.0,3.0,0.0,2.0,4.0,0.0,6.0,0.0,0.0,4.0,11.0,0.0,0.0,0.0,0.0,0.0,0.0],\"type\":\"scatter\",\"xaxis\":\"x3\",\"yaxis\":\"y3\"},{\"legendgroup\":\"y\",\"line\":{\"color\":\"#1f77b4\",\"width\":1},\"mode\":\"lines\",\"name\":\"y\",\"showlegend\":false,\"x\":[\"2013-01-01T00:00:00\",\"2013-02-01T00:00:00\",\"2013-03-01T00:00:00\",\"2013-04-01T00:00:00\",\"2013-05-01T00:00:00\",\"2013-06-01T00:00:00\",\"2013-07-01T00:00:00\",\"2013-08-01T00:00:00\",\"2013-09-01T00:00:00\",\"2013-10-01T00:00:00\",\"2013-11-01T00:00:00\",\"2013-12-01T00:00:00\",\"2014-01-01T00:00:00\",\"2014-02-01T00:00:00\",\"2014-03-01T00:00:00\",\"2014-04-01T00:00:00\",\"2014-05-01T00:00:00\",\"2014-06-01T00:00:00\",\"2014-07-01T00:00:00\",\"2014-08-01T00:00:00\",\"2014-09-01T00:00:00\",\"2014-10-01T00:00:00\",\"2014-11-01T00:00:00\",\"2014-12-01T00:00:00\",\"2015-01-01T00:00:00\",\"2015-02-01T00:00:00\",\"2015-03-01T00:00:00\",\"2015-04-01T00:00:00\",\"2015-05-01T00:00:00\",\"2015-06-01T00:00:00\",\"2015-07-01T00:00:00\",\"2015-08-01T00:00:00\",\"2015-09-01T00:00:00\",\"2015-10-01T00:00:00\",\"2015-11-01T00:00:00\",\"2015-12-01T00:00:00\",\"2016-01-01T00:00:00\",\"2016-02-01T00:00:00\",\"2016-03-01T00:00:00\",\"2016-04-01T00:00:00\",\"2016-05-01T00:00:00\",\"2016-06-01T00:00:00\",\"2016-07-01T00:00:00\",\"2016-08-01T00:00:00\",\"2016-09-01T00:00:00\",\"2016-10-01T00:00:00\",\"2016-11-01T00:00:00\"],\"y\":[0.0,7.0,4.0,4.0,0.0,1.0,3.0,5.0,7.0,0.0,0.0,0.0,3.0,12.0,5.0,4.0,5.0,3.0,1.0,3.0,2.0,7.0,7.0,8.0,4.0,11.0,1.0,5.0,5.0,4.0,5.0,0.0,2.0,4.0,6.0,2.0,10.0,2.0,0.0,3.0,2.0,0.0,0.0,0.0,0.0,0.0,0.0],\"type\":\"scatter\",\"xaxis\":\"x4\",\"yaxis\":\"y4\"},{\"legendgroup\":\"y\",\"line\":{\"color\":\"#1f77b4\",\"width\":1},\"mode\":\"lines\",\"name\":\"y\",\"showlegend\":false,\"x\":[\"2013-01-01T00:00:00\",\"2013-02-01T00:00:00\",\"2013-03-01T00:00:00\",\"2013-04-01T00:00:00\",\"2013-05-01T00:00:00\",\"2013-06-01T00:00:00\",\"2013-07-01T00:00:00\",\"2013-08-01T00:00:00\",\"2013-09-01T00:00:00\",\"2013-10-01T00:00:00\",\"2013-11-01T00:00:00\",\"2013-12-01T00:00:00\",\"2014-01-01T00:00:00\",\"2014-02-01T00:00:00\",\"2014-03-01T00:00:00\",\"2014-04-01T00:00:00\",\"2014-05-01T00:00:00\",\"2014-06-01T00:00:00\",\"2014-07-01T00:00:00\",\"2014-08-01T00:00:00\",\"2014-09-01T00:00:00\",\"2014-10-01T00:00:00\",\"2014-11-01T00:00:00\",\"2014-12-01T00:00:00\",\"2015-01-01T00:00:00\",\"2015-02-01T00:00:00\",\"2015-03-01T00:00:00\",\"2015-04-01T00:00:00\",\"2015-05-01T00:00:00\",\"2015-06-01T00:00:00\",\"2015-07-01T00:00:00\",\"2015-08-01T00:00:00\",\"2015-09-01T00:00:00\",\"2015-10-01T00:00:00\",\"2015-11-01T00:00:00\",\"2015-12-01T00:00:00\",\"2016-01-01T00:00:00\",\"2016-02-01T00:00:00\",\"2016-03-01T00:00:00\",\"2016-04-01T00:00:00\",\"2016-05-01T00:00:00\",\"2016-06-01T00:00:00\",\"2016-07-01T00:00:00\",\"2016-08-01T00:00:00\",\"2016-09-01T00:00:00\",\"2016-10-01T00:00:00\",\"2016-11-01T00:00:00\"],\"y\":[0.0,10.0,3.0,12.0,3.0,6.0,0.0,0.0,1.0,0.0,2.0,0.0,0.0,0.0,6.0,2.0,6.0,1.0,1.0,1.0,0.0,0.0,3.0,0.0,0.0,0.0,0.0,1.0,2.0,2.0,0.0,1.0,1.0,2.0,1.0,0.0,1.0,1.0,2.0,1.0,1.0,0.0,0.0,0.0,0.0,0.0,0.0],\"type\":\"scatter\",\"xaxis\":\"x5\",\"yaxis\":\"y5\"},{\"legendgroup\":\"ARIMA\",\"line\":{\"color\":\"#393b79\",\"width\":1},\"mode\":\"lines\",\"name\":\"ARIMA\",\"showlegend\":true,\"x\":[\"2016-04-02T00:00:00\",\"2016-04-03T00:00:00\",\"2016-04-04T00:00:00\",\"2016-04-05T00:00:00\",\"2016-04-06T00:00:00\",\"2016-04-07T00:00:00\",\"2016-04-08T00:00:00\",\"2016-04-09T00:00:00\",\"2016-04-10T00:00:00\",\"2016-04-11T00:00:00\",\"2016-04-12T00:00:00\",\"2016-04-13T00:00:00\",\"2016-04-14T00:00:00\",\"2016-04-15T00:00:00\",\"2016-04-16T00:00:00\",\"2016-04-17T00:00:00\",\"2016-04-18T00:00:00\",\"2016-04-19T00:00:00\",\"2016-04-20T00:00:00\",\"2016-04-21T00:00:00\",\"2016-04-22T00:00:00\",\"2016-04-23T00:00:00\",\"2016-04-24T00:00:00\",\"2016-04-25T00:00:00\",\"2016-04-26T00:00:00\",\"2016-04-27T00:00:00\",\"2016-04-28T00:00:00\",\"2016-04-29T00:00:00\"],\"y\":[18.787983,13.612318,17.771187,15.7644825,16.77494,17.637314,16.556751,18.878809,15.307205,18.552288,16.366753,18.1158,17.606539,17.364212,19.636984,15.917318,19.246748,17.07772,18.758593,18.37594,18.05624,20.33356,16.627562,19.949207,17.778656,19.46582,19.071482,18.758923],\"type\":\"scatter\",\"xaxis\":\"x\",\"yaxis\":\"y\"},{\"legendgroup\":\"HoltWinters\",\"line\":{\"color\":\"#e7ba52\",\"width\":1},\"mode\":\"lines\",\"name\":\"HoltWinters\",\"showlegend\":true,\"x\":[\"2016-04-02T00:00:00\",\"2016-04-03T00:00:00\",\"2016-04-04T00:00:00\",\"2016-04-05T00:00:00\",\"2016-04-06T00:00:00\",\"2016-04-07T00:00:00\",\"2016-04-08T00:00:00\",\"2016-04-09T00:00:00\",\"2016-04-10T00:00:00\",\"2016-04-11T00:00:00\",\"2016-04-12T00:00:00\",\"2016-04-13T00:00:00\",\"2016-04-14T00:00:00\",\"2016-04-15T00:00:00\",\"2016-04-16T00:00:00\",\"2016-04-17T00:00:00\",\"2016-04-18T00:00:00\",\"2016-04-19T00:00:00\",\"2016-04-20T00:00:00\",\"2016-04-21T00:00:00\",\"2016-04-22T00:00:00\",\"2016-04-23T00:00:00\",\"2016-04-24T00:00:00\",\"2016-04-25T00:00:00\",\"2016-04-26T00:00:00\",\"2016-04-27T00:00:00\",\"2016-04-28T00:00:00\",\"2016-04-29T00:00:00\"],\"y\":[18.020977,13.737409,16.326395,14.275508,17.027637,16.639511,15.401297,18.405245,14.121677,16.710663,14.659776,17.411905,17.023779,15.785565,18.789513,14.505945,17.09493,15.0440445,17.796175,17.408047,16.169832,19.17378,14.890213,17.479198,15.428312,18.180443,17.792315,16.554102],\"type\":\"scatter\",\"xaxis\":\"x\",\"yaxis\":\"y\"},{\"legendgroup\":\"ARIMA\",\"line\":{\"color\":\"#393b79\",\"width\":1},\"mode\":\"lines\",\"name\":\"ARIMA\",\"showlegend\":false,\"x\":[\"2016-04-02T00:00:00\",\"2016-04-03T00:00:00\",\"2016-04-04T00:00:00\",\"2016-04-05T00:00:00\",\"2016-04-06T00:00:00\",\"2016-04-07T00:00:00\",\"2016-04-08T00:00:00\",\"2016-04-09T00:00:00\",\"2016-04-10T00:00:00\",\"2016-04-11T00:00:00\",\"2016-04-12T00:00:00\",\"2016-04-13T00:00:00\",\"2016-04-14T00:00:00\",\"2016-04-15T00:00:00\",\"2016-04-16T00:00:00\",\"2016-04-17T00:00:00\",\"2016-04-18T00:00:00\",\"2016-04-19T00:00:00\",\"2016-04-20T00:00:00\",\"2016-04-21T00:00:00\",\"2016-04-22T00:00:00\",\"2016-04-23T00:00:00\",\"2016-04-24T00:00:00\",\"2016-04-25T00:00:00\",\"2016-04-26T00:00:00\",\"2016-04-27T00:00:00\",\"2016-04-28T00:00:00\",\"2016-04-29T00:00:00\"],\"y\":[57.533573,44.125187,66.128265,73.02541,49.64015,64.25718,50.2545,56.06963,39.137695,49.61469,49.83958,40.034935,60.185097,55.121006,53.660446,38.303066,53.930676,57.137177,41.26381,58.941402,49.882957,51.67366,35.612667,48.938637,50.81276,37.6513,56.433796,49.160294],\"type\":\"scatter\",\"xaxis\":\"x2\",\"yaxis\":\"y2\"},{\"legendgroup\":\"HoltWinters\",\"line\":{\"color\":\"#e7ba52\",\"width\":1},\"mode\":\"lines\",\"name\":\"HoltWinters\",\"showlegend\":false,\"x\":[\"2016-04-02T00:00:00\",\"2016-04-03T00:00:00\",\"2016-04-04T00:00:00\",\"2016-04-05T00:00:00\",\"2016-04-06T00:00:00\",\"2016-04-07T00:00:00\",\"2016-04-08T00:00:00\",\"2016-04-09T00:00:00\",\"2016-04-10T00:00:00\",\"2016-04-11T00:00:00\",\"2016-04-12T00:00:00\",\"2016-04-13T00:00:00\",\"2016-04-14T00:00:00\",\"2016-04-15T00:00:00\",\"2016-04-16T00:00:00\",\"2016-04-17T00:00:00\",\"2016-04-18T00:00:00\",\"2016-04-19T00:00:00\",\"2016-04-20T00:00:00\",\"2016-04-21T00:00:00\",\"2016-04-22T00:00:00\",\"2016-04-23T00:00:00\",\"2016-04-24T00:00:00\",\"2016-04-25T00:00:00\",\"2016-04-26T00:00:00\",\"2016-04-27T00:00:00\",\"2016-04-28T00:00:00\",\"2016-04-29T00:00:00\"],\"y\":[53.594337,31.995497,36.986214,44.09247,31.03182,46.958317,38.140762,44.603737,23.004894,27.995611,35.101868,22.041218,37.967716,29.150162,35.613132,14.014294,19.00501,26.111267,13.050617,28.977114,20.159561,26.622532,5.023692,10.014409,17.120665,4.0600157,19.986513,11.168959],\"type\":\"scatter\",\"xaxis\":\"x2\",\"yaxis\":\"y2\"},{\"legendgroup\":\"ARIMA\",\"line\":{\"color\":\"#393b79\",\"width\":1},\"mode\":\"lines\",\"name\":\"ARIMA\",\"showlegend\":false,\"x\":[\"2016-04-02T00:00:00\",\"2016-04-03T00:00:00\",\"2016-04-04T00:00:00\",\"2016-04-05T00:00:00\",\"2016-04-06T00:00:00\",\"2016-04-07T00:00:00\",\"2016-04-08T00:00:00\",\"2016-04-09T00:00:00\",\"2016-04-10T00:00:00\",\"2016-04-11T00:00:00\",\"2016-04-12T00:00:00\",\"2016-04-13T00:00:00\",\"2016-04-14T00:00:00\",\"2016-04-15T00:00:00\",\"2016-04-16T00:00:00\",\"2016-04-17T00:00:00\",\"2016-04-18T00:00:00\",\"2016-04-19T00:00:00\",\"2016-04-20T00:00:00\",\"2016-04-21T00:00:00\",\"2016-04-22T00:00:00\",\"2016-04-23T00:00:00\",\"2016-04-24T00:00:00\",\"2016-04-25T00:00:00\",\"2016-04-26T00:00:00\",\"2016-04-27T00:00:00\",\"2016-04-28T00:00:00\",\"2016-04-29T00:00:00\"],\"y\":[0.4061024,2.8369997,-0.70953393,3.1323926,-0.6674284,-0.5397572,0.9391771,-0.634867,1.5430447,-2.0900075,2.415331,-2.0762637,-1.9979566,0.29626283,-1.9297649,0.33068678,-3.2751355,1.0171076,-3.252118,-3.1578474,-1.1259339,-3.1422079,-0.9083195,-4.5228953,-0.16210617,-4.5028625,-4.4137278,-2.2974346],\"type\":\"scatter\",\"xaxis\":\"x3\",\"yaxis\":\"y3\"},{\"legendgroup\":\"HoltWinters\",\"line\":{\"color\":\"#e7ba52\",\"width\":1},\"mode\":\"lines\",\"name\":\"HoltWinters\",\"showlegend\":false,\"x\":[\"2016-04-02T00:00:00\",\"2016-04-03T00:00:00\",\"2016-04-04T00:00:00\",\"2016-04-05T00:00:00\",\"2016-04-06T00:00:00\",\"2016-04-07T00:00:00\",\"2016-04-08T00:00:00\",\"2016-04-09T00:00:00\",\"2016-04-10T00:00:00\",\"2016-04-11T00:00:00\",\"2016-04-12T00:00:00\",\"2016-04-13T00:00:00\",\"2016-04-14T00:00:00\",\"2016-04-15T00:00:00\",\"2016-04-16T00:00:00\",\"2016-04-17T00:00:00\",\"2016-04-18T00:00:00\",\"2016-04-19T00:00:00\",\"2016-04-20T00:00:00\",\"2016-04-21T00:00:00\",\"2016-04-22T00:00:00\",\"2016-04-23T00:00:00\",\"2016-04-24T00:00:00\",\"2016-04-25T00:00:00\",\"2016-04-26T00:00:00\",\"2016-04-27T00:00:00\",\"2016-04-28T00:00:00\",\"2016-04-29T00:00:00\"],\"y\":[3.4357955,0.8081001,1.6648852,1.8274459,1.7140155,2.9368567,0.8696404,2.5760925,-0.051603135,0.805182,0.9677427,0.8543123,2.0771534,0.009937201,1.7163892,-0.9113064,-0.05452124,0.108039446,-0.005390949,1.2174503,-0.849766,0.856686,-1.7710096,-0.91422445,-0.7516638,-0.8650942,0.357747,-1.7094692],\"type\":\"scatter\",\"xaxis\":\"x3\",\"yaxis\":\"y3\"},{\"legendgroup\":\"ARIMA\",\"line\":{\"color\":\"#393b79\",\"width\":1},\"mode\":\"lines\",\"name\":\"ARIMA\",\"showlegend\":false,\"x\":[\"2016-04-02T00:00:00\",\"2016-04-03T00:00:00\",\"2016-04-04T00:00:00\",\"2016-04-05T00:00:00\",\"2016-04-06T00:00:00\",\"2016-04-07T00:00:00\",\"2016-04-08T00:00:00\",\"2016-04-09T00:00:00\",\"2016-04-10T00:00:00\",\"2016-04-11T00:00:00\",\"2016-04-12T00:00:00\",\"2016-04-13T00:00:00\",\"2016-04-14T00:00:00\",\"2016-04-15T00:00:00\",\"2016-04-16T00:00:00\",\"2016-04-17T00:00:00\",\"2016-04-18T00:00:00\",\"2016-04-19T00:00:00\",\"2016-04-20T00:00:00\",\"2016-04-21T00:00:00\",\"2016-04-22T00:00:00\",\"2016-04-23T00:00:00\",\"2016-04-24T00:00:00\",\"2016-04-25T00:00:00\",\"2016-04-26T00:00:00\",\"2016-04-27T00:00:00\",\"2016-04-28T00:00:00\",\"2016-04-29T00:00:00\"],\"y\":[2.3494248,5.254481,3.8007257,6.7962294,3.8228068,1.3029757,3.0758715,2.3738084,5.2994795,3.9011908,6.787996,3.9237785,1.3926545,3.1388917,2.4357102,5.3618293,3.9647453,6.849189,3.987344,1.4559748,3.2016327,2.498427,5.424556,4.0274982,6.91189,4.050097,1.5187224,3.2643678],\"type\":\"scatter\",\"xaxis\":\"x4\",\"yaxis\":\"y4\"},{\"legendgroup\":\"HoltWinters\",\"line\":{\"color\":\"#e7ba52\",\"width\":1},\"mode\":\"lines\",\"name\":\"HoltWinters\",\"showlegend\":false,\"x\":[\"2016-04-02T00:00:00\",\"2016-04-03T00:00:00\",\"2016-04-04T00:00:00\",\"2016-04-05T00:00:00\",\"2016-04-06T00:00:00\",\"2016-04-07T00:00:00\",\"2016-04-08T00:00:00\",\"2016-04-09T00:00:00\",\"2016-04-10T00:00:00\",\"2016-04-11T00:00:00\",\"2016-04-12T00:00:00\",\"2016-04-13T00:00:00\",\"2016-04-14T00:00:00\",\"2016-04-15T00:00:00\",\"2016-04-16T00:00:00\",\"2016-04-17T00:00:00\",\"2016-04-18T00:00:00\",\"2016-04-19T00:00:00\",\"2016-04-20T00:00:00\",\"2016-04-21T00:00:00\",\"2016-04-22T00:00:00\",\"2016-04-23T00:00:00\",\"2016-04-24T00:00:00\",\"2016-04-25T00:00:00\",\"2016-04-26T00:00:00\",\"2016-04-27T00:00:00\",\"2016-04-28T00:00:00\",\"2016-04-29T00:00:00\"],\"y\":[3.0480688,6.3411093,4.8017197,7.339253,4.9607,2.5930219,3.5731301,3.277492,6.570533,5.0311427,7.568676,5.190123,2.8224452,3.8025537,3.5069156,6.799956,5.260566,7.7980995,5.4195466,3.0518687,4.031977,3.7363389,7.0293794,5.4899898,8.027523,5.64897,3.281292,4.2614],\"type\":\"scatter\",\"xaxis\":\"x4\",\"yaxis\":\"y4\"},{\"legendgroup\":\"ARIMA\",\"line\":{\"color\":\"#393b79\",\"width\":1},\"mode\":\"lines\",\"name\":\"ARIMA\",\"showlegend\":false,\"x\":[\"2016-04-02T00:00:00\",\"2016-04-03T00:00:00\",\"2016-04-04T00:00:00\",\"2016-04-05T00:00:00\",\"2016-04-06T00:00:00\",\"2016-04-07T00:00:00\",\"2016-04-08T00:00:00\",\"2016-04-09T00:00:00\",\"2016-04-10T00:00:00\",\"2016-04-11T00:00:00\",\"2016-04-12T00:00:00\",\"2016-04-13T00:00:00\",\"2016-04-14T00:00:00\",\"2016-04-15T00:00:00\",\"2016-04-16T00:00:00\",\"2016-04-17T00:00:00\",\"2016-04-18T00:00:00\",\"2016-04-19T00:00:00\",\"2016-04-20T00:00:00\",\"2016-04-21T00:00:00\",\"2016-04-22T00:00:00\",\"2016-04-23T00:00:00\",\"2016-04-24T00:00:00\",\"2016-04-25T00:00:00\",\"2016-04-26T00:00:00\",\"2016-04-27T00:00:00\",\"2016-04-28T00:00:00\",\"2016-04-29T00:00:00\"],\"y\":[2.2656026,1.5549358,1.1526805,1.6233851,1.6289911,2.514417,1.6379286,2.9412458,1.9822785,1.2832779,2.0335193,2.0442095,2.9902644,2.046079,3.3274055,2.5083692,1.9760015,2.5691926,2.5769904,3.4889817,2.5828414,3.876532,2.9788396,2.3528092,3.0342772,3.043701,3.9748392,3.047314],\"type\":\"scatter\",\"xaxis\":\"x5\",\"yaxis\":\"y5\"},{\"legendgroup\":\"HoltWinters\",\"line\":{\"color\":\"#e7ba52\",\"width\":1},\"mode\":\"lines\",\"name\":\"HoltWinters\",\"showlegend\":false,\"x\":[\"2016-04-02T00:00:00\",\"2016-04-03T00:00:00\",\"2016-04-04T00:00:00\",\"2016-04-05T00:00:00\",\"2016-04-06T00:00:00\",\"2016-04-07T00:00:00\",\"2016-04-08T00:00:00\",\"2016-04-09T00:00:00\",\"2016-04-10T00:00:00\",\"2016-04-11T00:00:00\",\"2016-04-12T00:00:00\",\"2016-04-13T00:00:00\",\"2016-04-14T00:00:00\",\"2016-04-15T00:00:00\",\"2016-04-16T00:00:00\",\"2016-04-17T00:00:00\",\"2016-04-18T00:00:00\",\"2016-04-19T00:00:00\",\"2016-04-20T00:00:00\",\"2016-04-21T00:00:00\",\"2016-04-22T00:00:00\",\"2016-04-23T00:00:00\",\"2016-04-24T00:00:00\",\"2016-04-25T00:00:00\",\"2016-04-26T00:00:00\",\"2016-04-27T00:00:00\",\"2016-04-28T00:00:00\",\"2016-04-29T00:00:00\"],\"y\":[0.20702296,-1.5128356,-0.86199725,0.85907865,-0.123970136,0.7867269,-1.2436271,-0.39815837,-2.118017,-1.4671786,0.25389728,-0.7291515,0.18154559,-1.8488084,-1.0033396,-2.7231984,-2.0723598,-0.35128406,-1.3343328,-0.42363575,-2.4539897,-1.608521,-3.3283796,-2.6775413,-0.95646536,-1.9395142,-1.028817,-3.059171],\"type\":\"scatter\",\"xaxis\":\"x5\",\"yaxis\":\"y5\"}],                        {\"template\":{\"data\":{\"barpolar\":[{\"marker\":{\"line\":{\"color\":\"white\",\"width\":0.5},\"pattern\":{\"fillmode\":\"overlay\",\"size\":10,\"solidity\":0.2}},\"type\":\"barpolar\"}],\"bar\":[{\"error_x\":{\"color\":\"#2a3f5f\"},\"error_y\":{\"color\":\"#2a3f5f\"},\"marker\":{\"line\":{\"color\":\"white\",\"width\":0.5},\"pattern\":{\"fillmode\":\"overlay\",\"size\":10,\"solidity\":0.2}},\"type\":\"bar\"}],\"carpet\":[{\"aaxis\":{\"endlinecolor\":\"#2a3f5f\",\"gridcolor\":\"#C8D4E3\",\"linecolor\":\"#C8D4E3\",\"minorgridcolor\":\"#C8D4E3\",\"startlinecolor\":\"#2a3f5f\"},\"baxis\":{\"endlinecolor\":\"#2a3f5f\",\"gridcolor\":\"#C8D4E3\",\"linecolor\":\"#C8D4E3\",\"minorgridcolor\":\"#C8D4E3\",\"startlinecolor\":\"#2a3f5f\"},\"type\":\"carpet\"}],\"choropleth\":[{\"colorbar\":{\"outlinewidth\":0,\"ticks\":\"\"},\"type\":\"choropleth\"}],\"contourcarpet\":[{\"colorbar\":{\"outlinewidth\":0,\"ticks\":\"\"},\"type\":\"contourcarpet\"}],\"contour\":[{\"colorbar\":{\"outlinewidth\":0,\"ticks\":\"\"},\"colorscale\":[[0.0,\"#0d0887\"],[0.1111111111111111,\"#46039f\"],[0.2222222222222222,\"#7201a8\"],[0.3333333333333333,\"#9c179e\"],[0.4444444444444444,\"#bd3786\"],[0.5555555555555556,\"#d8576b\"],[0.6666666666666666,\"#ed7953\"],[0.7777777777777778,\"#fb9f3a\"],[0.8888888888888888,\"#fdca26\"],[1.0,\"#f0f921\"]],\"type\":\"contour\"}],\"heatmapgl\":[{\"colorbar\":{\"outlinewidth\":0,\"ticks\":\"\"},\"colorscale\":[[0.0,\"#0d0887\"],[0.1111111111111111,\"#46039f\"],[0.2222222222222222,\"#7201a8\"],[0.3333333333333333,\"#9c179e\"],[0.4444444444444444,\"#bd3786\"],[0.5555555555555556,\"#d8576b\"],[0.6666666666666666,\"#ed7953\"],[0.7777777777777778,\"#fb9f3a\"],[0.8888888888888888,\"#fdca26\"],[1.0,\"#f0f921\"]],\"type\":\"heatmapgl\"}],\"heatmap\":[{\"colorbar\":{\"outlinewidth\":0,\"ticks\":\"\"},\"colorscale\":[[0.0,\"#0d0887\"],[0.1111111111111111,\"#46039f\"],[0.2222222222222222,\"#7201a8\"],[0.3333333333333333,\"#9c179e\"],[0.4444444444444444,\"#bd3786\"],[0.5555555555555556,\"#d8576b\"],[0.6666666666666666,\"#ed7953\"],[0.7777777777777778,\"#fb9f3a\"],[0.8888888888888888,\"#fdca26\"],[1.0,\"#f0f921\"]],\"type\":\"heatmap\"}],\"histogram2dcontour\":[{\"colorbar\":{\"outlinewidth\":0,\"ticks\":\"\"},\"colorscale\":[[0.0,\"#0d0887\"],[0.1111111111111111,\"#46039f\"],[0.2222222222222222,\"#7201a8\"],[0.3333333333333333,\"#9c179e\"],[0.4444444444444444,\"#bd3786\"],[0.5555555555555556,\"#d8576b\"],[0.6666666666666666,\"#ed7953\"],[0.7777777777777778,\"#fb9f3a\"],[0.8888888888888888,\"#fdca26\"],[1.0,\"#f0f921\"]],\"type\":\"histogram2dcontour\"}],\"histogram2d\":[{\"colorbar\":{\"outlinewidth\":0,\"ticks\":\"\"},\"colorscale\":[[0.0,\"#0d0887\"],[0.1111111111111111,\"#46039f\"],[0.2222222222222222,\"#7201a8\"],[0.3333333333333333,\"#9c179e\"],[0.4444444444444444,\"#bd3786\"],[0.5555555555555556,\"#d8576b\"],[0.6666666666666666,\"#ed7953\"],[0.7777777777777778,\"#fb9f3a\"],[0.8888888888888888,\"#fdca26\"],[1.0,\"#f0f921\"]],\"type\":\"histogram2d\"}],\"histogram\":[{\"marker\":{\"pattern\":{\"fillmode\":\"overlay\",\"size\":10,\"solidity\":0.2}},\"type\":\"histogram\"}],\"mesh3d\":[{\"colorbar\":{\"outlinewidth\":0,\"ticks\":\"\"},\"type\":\"mesh3d\"}],\"parcoords\":[{\"line\":{\"colorbar\":{\"outlinewidth\":0,\"ticks\":\"\"}},\"type\":\"parcoords\"}],\"pie\":[{\"automargin\":true,\"type\":\"pie\"}],\"scatter3d\":[{\"line\":{\"colorbar\":{\"outlinewidth\":0,\"ticks\":\"\"}},\"marker\":{\"colorbar\":{\"outlinewidth\":0,\"ticks\":\"\"}},\"type\":\"scatter3d\"}],\"scattercarpet\":[{\"marker\":{\"colorbar\":{\"outlinewidth\":0,\"ticks\":\"\"}},\"type\":\"scattercarpet\"}],\"scattergeo\":[{\"marker\":{\"colorbar\":{\"outlinewidth\":0,\"ticks\":\"\"}},\"type\":\"scattergeo\"}],\"scattergl\":[{\"marker\":{\"colorbar\":{\"outlinewidth\":0,\"ticks\":\"\"}},\"type\":\"scattergl\"}],\"scattermapbox\":[{\"marker\":{\"colorbar\":{\"outlinewidth\":0,\"ticks\":\"\"}},\"type\":\"scattermapbox\"}],\"scatterpolargl\":[{\"marker\":{\"colorbar\":{\"outlinewidth\":0,\"ticks\":\"\"}},\"type\":\"scatterpolargl\"}],\"scatterpolar\":[{\"marker\":{\"colorbar\":{\"outlinewidth\":0,\"ticks\":\"\"}},\"type\":\"scatterpolar\"}],\"scatter\":[{\"fillpattern\":{\"fillmode\":\"overlay\",\"size\":10,\"solidity\":0.2},\"type\":\"scatter\"}],\"scatterternary\":[{\"marker\":{\"colorbar\":{\"outlinewidth\":0,\"ticks\":\"\"}},\"type\":\"scatterternary\"}],\"surface\":[{\"colorbar\":{\"outlinewidth\":0,\"ticks\":\"\"},\"colorscale\":[[0.0,\"#0d0887\"],[0.1111111111111111,\"#46039f\"],[0.2222222222222222,\"#7201a8\"],[0.3333333333333333,\"#9c179e\"],[0.4444444444444444,\"#bd3786\"],[0.5555555555555556,\"#d8576b\"],[0.6666666666666666,\"#ed7953\"],[0.7777777777777778,\"#fb9f3a\"],[0.8888888888888888,\"#fdca26\"],[1.0,\"#f0f921\"]],\"type\":\"surface\"}],\"table\":[{\"cells\":{\"fill\":{\"color\":\"#EBF0F8\"},\"line\":{\"color\":\"white\"}},\"header\":{\"fill\":{\"color\":\"#C8D4E3\"},\"line\":{\"color\":\"white\"}},\"type\":\"table\"}]},\"layout\":{\"annotationdefaults\":{\"arrowcolor\":\"#2a3f5f\",\"arrowhead\":0,\"arrowwidth\":1},\"autotypenumbers\":\"strict\",\"coloraxis\":{\"colorbar\":{\"outlinewidth\":0,\"ticks\":\"\"}},\"colorscale\":{\"diverging\":[[0,\"#8e0152\"],[0.1,\"#c51b7d\"],[0.2,\"#de77ae\"],[0.3,\"#f1b6da\"],[0.4,\"#fde0ef\"],[0.5,\"#f7f7f7\"],[0.6,\"#e6f5d0\"],[0.7,\"#b8e186\"],[0.8,\"#7fbc41\"],[0.9,\"#4d9221\"],[1,\"#276419\"]],\"sequential\":[[0.0,\"#0d0887\"],[0.1111111111111111,\"#46039f\"],[0.2222222222222222,\"#7201a8\"],[0.3333333333333333,\"#9c179e\"],[0.4444444444444444,\"#bd3786\"],[0.5555555555555556,\"#d8576b\"],[0.6666666666666666,\"#ed7953\"],[0.7777777777777778,\"#fb9f3a\"],[0.8888888888888888,\"#fdca26\"],[1.0,\"#f0f921\"]],\"sequentialminus\":[[0.0,\"#0d0887\"],[0.1111111111111111,\"#46039f\"],[0.2222222222222222,\"#7201a8\"],[0.3333333333333333,\"#9c179e\"],[0.4444444444444444,\"#bd3786\"],[0.5555555555555556,\"#d8576b\"],[0.6666666666666666,\"#ed7953\"],[0.7777777777777778,\"#fb9f3a\"],[0.8888888888888888,\"#fdca26\"],[1.0,\"#f0f921\"]]},\"colorway\":[\"#636efa\",\"#EF553B\",\"#00cc96\",\"#ab63fa\",\"#FFA15A\",\"#19d3f3\",\"#FF6692\",\"#B6E880\",\"#FF97FF\",\"#FECB52\"],\"font\":{\"color\":\"#2a3f5f\"},\"geo\":{\"bgcolor\":\"white\",\"lakecolor\":\"white\",\"landcolor\":\"white\",\"showlakes\":true,\"showland\":true,\"subunitcolor\":\"#C8D4E3\"},\"hoverlabel\":{\"align\":\"left\"},\"hovermode\":\"closest\",\"mapbox\":{\"style\":\"light\"},\"paper_bgcolor\":\"white\",\"plot_bgcolor\":\"white\",\"polar\":{\"angularaxis\":{\"gridcolor\":\"#EBF0F8\",\"linecolor\":\"#EBF0F8\",\"ticks\":\"\"},\"bgcolor\":\"white\",\"radialaxis\":{\"gridcolor\":\"#EBF0F8\",\"linecolor\":\"#EBF0F8\",\"ticks\":\"\"}},\"scene\":{\"xaxis\":{\"backgroundcolor\":\"white\",\"gridcolor\":\"#DFE8F3\",\"gridwidth\":2,\"linecolor\":\"#EBF0F8\",\"showbackground\":true,\"ticks\":\"\",\"zerolinecolor\":\"#EBF0F8\"},\"yaxis\":{\"backgroundcolor\":\"white\",\"gridcolor\":\"#DFE8F3\",\"gridwidth\":2,\"linecolor\":\"#EBF0F8\",\"showbackground\":true,\"ticks\":\"\",\"zerolinecolor\":\"#EBF0F8\"},\"zaxis\":{\"backgroundcolor\":\"white\",\"gridcolor\":\"#DFE8F3\",\"gridwidth\":2,\"linecolor\":\"#EBF0F8\",\"showbackground\":true,\"ticks\":\"\",\"zerolinecolor\":\"#EBF0F8\"}},\"shapedefaults\":{\"line\":{\"color\":\"#2a3f5f\"}},\"ternary\":{\"aaxis\":{\"gridcolor\":\"#DFE8F3\",\"linecolor\":\"#A2B1C6\",\"ticks\":\"\"},\"baxis\":{\"gridcolor\":\"#DFE8F3\",\"linecolor\":\"#A2B1C6\",\"ticks\":\"\"},\"bgcolor\":\"white\",\"caxis\":{\"gridcolor\":\"#DFE8F3\",\"linecolor\":\"#A2B1C6\",\"ticks\":\"\"}},\"title\":{\"x\":0.05},\"xaxis\":{\"automargin\":true,\"gridcolor\":\"#EBF0F8\",\"linecolor\":\"#EBF0F8\",\"ticks\":\"\",\"title\":{\"standoff\":15},\"zerolinecolor\":\"#EBF0F8\",\"zerolinewidth\":2},\"yaxis\":{\"automargin\":true,\"gridcolor\":\"#EBF0F8\",\"linecolor\":\"#EBF0F8\",\"ticks\":\"\",\"title\":{\"standoff\":15},\"zerolinecolor\":\"#EBF0F8\",\"zerolinewidth\":2}}},\"xaxis\":{\"anchor\":\"y\",\"domain\":[0.0,0.46499999999999997],\"showticklabels\":true,\"visible\":true},\"yaxis\":{\"anchor\":\"x\",\"domain\":[0.7333333333333334,1.0]},\"xaxis2\":{\"anchor\":\"y2\",\"domain\":[0.5349999999999999,0.9999999999999999],\"showticklabels\":true,\"visible\":true},\"yaxis2\":{\"anchor\":\"x2\",\"domain\":[0.7333333333333334,1.0]},\"xaxis3\":{\"anchor\":\"y3\",\"domain\":[0.0,0.46499999999999997],\"showticklabels\":true,\"visible\":true},\"yaxis3\":{\"anchor\":\"x3\",\"domain\":[0.3666666666666667,0.6333333333333333]},\"xaxis4\":{\"anchor\":\"y4\",\"domain\":[0.5349999999999999,0.9999999999999999],\"showticklabels\":true,\"visible\":true},\"yaxis4\":{\"anchor\":\"x4\",\"domain\":[0.3666666666666667,0.6333333333333333]},\"xaxis5\":{\"anchor\":\"y5\",\"domain\":[0.0,0.46499999999999997],\"showticklabels\":true,\"visible\":true},\"yaxis5\":{\"anchor\":\"x5\",\"domain\":[0.0,0.26666666666666666]},\"xaxis6\":{\"anchor\":\"y6\",\"domain\":[0.5349999999999999,0.9999999999999999],\"showticklabels\":true,\"visible\":true},\"yaxis6\":{\"anchor\":\"x6\",\"domain\":[0.0,0.26666666666666666]},\"annotations\":[{\"font\":{\"size\":10},\"showarrow\":false,\"text\":\"HOUSEHOLD_1\",\"x\":0.23249999999999998,\"xanchor\":\"center\",\"xref\":\"paper\",\"y\":1.0,\"yanchor\":\"bottom\",\"yref\":\"paper\"},{\"font\":{\"size\":10},\"showarrow\":false,\"text\":\"FOODS_3\",\"x\":0.7674999999999998,\"xanchor\":\"center\",\"xref\":\"paper\",\"y\":1.0,\"yanchor\":\"bottom\",\"yref\":\"paper\"},{\"font\":{\"size\":10},\"showarrow\":false,\"text\":\"HOBBIES_1\",\"x\":0.23249999999999998,\"xanchor\":\"center\",\"xref\":\"paper\",\"y\":0.6333333333333333,\"yanchor\":\"bottom\",\"yref\":\"paper\"},{\"font\":{\"size\":10},\"showarrow\":false,\"text\":\"HOBBIES_2\",\"x\":0.7674999999999998,\"xanchor\":\"center\",\"xref\":\"paper\",\"y\":0.6333333333333333,\"yanchor\":\"bottom\",\"yref\":\"paper\"},{\"font\":{\"size\":10},\"showarrow\":false,\"text\":\"FOODS_1\",\"x\":0.23249999999999998,\"xanchor\":\"center\",\"xref\":\"paper\",\"y\":0.26666666666666666,\"yanchor\":\"bottom\",\"yref\":\"paper\"},{\"font\":{\"size\":10},\"showarrow\":false,\"text\":\"Datestamp [ds]\",\"x\":0.5,\"xanchor\":\"center\",\"xref\":\"paper\",\"y\":0,\"yanchor\":\"top\",\"yref\":\"paper\",\"yshift\":-30},{\"font\":{\"size\":10},\"showarrow\":false,\"text\":\"Target [y]\",\"textangle\":-90,\"x\":0,\"xanchor\":\"right\",\"xref\":\"paper\",\"xshift\":-40,\"y\":0.5,\"yanchor\":\"middle\",\"yref\":\"paper\"}],\"margin\":{\"l\":60,\"r\":10,\"t\":20,\"b\":50},\"font\":{\"size\":10},\"autosize\":true,\"height\":450},                        {\"responsive\": true}                    ).then(function(){\n",
       "                            \n",
       "var gd = document.getElementById('899822a8-f3b8-41e9-9f4f-a85dda71f4d5');\n",
       "var x = new MutationObserver(function (mutations, observer) {{\n",
       "        var display = window.getComputedStyle(gd).display;\n",
       "        if (!display || display === 'none') {{\n",
       "            console.log([gd, 'removed!']);\n",
       "            Plotly.purge(gd);\n",
       "            observer.disconnect();\n",
       "        }}\n",
       "}});\n",
       "\n",
       "// Listen for the removal of the full notebook cells\n",
       "var notebookContainer = gd.closest('#notebook-container');\n",
       "if (notebookContainer) {{\n",
       "    x.observe(notebookContainer, {childList: true});\n",
       "}}\n",
       "\n",
       "// Listen for the clearing of the current output cell\n",
       "var outputEl = gd.closest('.output');\n",
       "if (outputEl) {{\n",
       "    x.observe(outputEl, {childList: true});\n",
       "}}\n",
       "\n",
       "                        })                };                });            </script>        </div>"
      ]
     },
     "metadata": {},
     "output_type": "display_data"
    }
   ],
   "source": [
    "sf.plot(df, forecast_df)"
   ]
  }
 ],
 "metadata": {
  "kaggle": {
   "accelerator": "none",
   "dataSources": [
    {
     "datasetId": 4103502,
     "sourceId": 7115521,
     "sourceType": "datasetVersion"
    }
   ],
   "dockerImageVersionId": 30587,
   "isGpuEnabled": false,
   "isInternetEnabled": true,
   "language": "python",
   "sourceType": "notebook"
  },
  "kernelspec": {
   "display_name": "Python 3",
   "language": "python",
   "name": "python3"
  },
  "language_info": {
   "codemirror_mode": {
    "name": "ipython",
    "version": 3
   },
   "file_extension": ".py",
   "mimetype": "text/x-python",
   "name": "python",
   "nbconvert_exporter": "python",
   "pygments_lexer": "ipython3",
   "version": "3.10.12"
  },
  "papermill": {
   "default_parameters": {},
   "duration": 99.562642,
   "end_time": "2023-12-04T02:16:18.356112",
   "environment_variables": {},
   "exception": null,
   "input_path": "__notebook__.ipynb",
   "output_path": "__notebook__.ipynb",
   "parameters": {},
   "start_time": "2023-12-04T02:14:38.793470",
   "version": "2.4.0"
  },
  "vscode": {
   "interpreter": {
    "hash": "5768b04258121350f986a32a10c2b5b63ea833426012d4b5b8a887aeeef377c3"
   }
  }
 },
 "nbformat": 4,
 "nbformat_minor": 5
}
